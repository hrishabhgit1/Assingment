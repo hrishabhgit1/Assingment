{
 "cells": [
  {
   "cell_type": "markdown",
   "id": "ed867d8c-4da8-471e-b810-4bfddef26da1",
   "metadata": {},
   "source": [
    "Q1. Explain Class and Object with respect to Object-Oriented Programming. Give a suitable example."
   ]
  },
  {
   "cell_type": "code",
   "execution_count": 16,
   "id": "a5177db1-2dcd-4368-bdfd-fa6b284952ae",
   "metadata": {},
   "outputs": [
    {
     "name": "stdout",
     "output_type": "stream",
     "text": [
      "welcome to pwskills\n"
     ]
    }
   ],
   "source": [
    "\"\"\"Class is a detailed description, the definition, and the template of what an object will be. But it is not the object itself. Also, what we call, a class is the building block that leads to Object-Oriented Programming. It is a user-defined data type, that holds its own data members and member functions, which can be accessed and used by creating an instance of that class. It is the blueprint of any object. Once we have written a class and defined it, we can use it to create as many objects based on that class as we want.\"\"\"\n",
    "class home:\n",
    "    \n",
    "    def welcome_msg(self):\n",
    "        print('welcome to home')\n",
    "r=pwskills()\n",
    "r.welcome_msg()\n",
    "#class is just classification(pwskills) while object is more like real world entity"
   ]
  },
  {
   "cell_type": "markdown",
   "id": "7b793752-07c3-48c8-9eeb-e4587f56581b",
   "metadata": {},
   "source": [
    "Q2. Name the four pillars of OOPs."
   ]
  },
  {
   "cell_type": "code",
   "execution_count": 3,
   "id": "19335a48-5752-4029-b431-14ac688405c5",
   "metadata": {},
   "outputs": [
    {
     "data": {
      "text/plain": [
       "'The four pillars of OOP or Object Oriented Programming are as follows:\\n\\n1.Inheritance\\n2.Encapsulation\\n3.Polymorphism\\n4.Abstraction\\n\\nInheritance\\nIn Python it is possible to create an object that inherits the methods and properties of another object. This is called inheritance. In inheritance, there is a parent class and a child class. A child class inherits the properties and methods of the parent class.\\n\\nPolymorphism\\nPolymorphism simply means ‘many forms’. In Python this means that you can have one function or object that can be used in different ways. Let’s take an example of the addition operator (+); we can use it to add numbers, but we can also use it to concatenate strings.\\n\\nEncapsulation\\nEncapsulation is the process of making data private by wrapping data and its methods in a ‘capsule’ or unit, so that it can not be accessed or modified outside of that unit. This is achieved by making variables inside a class private. In Python we can make variables private by prefixing the variable name with a double underscore ‘__’. \\n\\nAbstraction\\nThe fourth pillar of OOP is Abstraction. Abstraction is about keeping the process simple by hiding unnecessary details from the user. Think of a car; the actual mechanism that keeps a car moving is hidden from the user. It is important to know how to drive a car; but it is not necessarily important to know what happens under the hood when you drive the car. Abstraction is about keeping the internal mechanics of the code hidden from the user. This reduces the complexity of the code, and ensures that we only concentrate on what is important.\\n'"
      ]
     },
     "execution_count": 3,
     "metadata": {},
     "output_type": "execute_result"
    }
   ],
   "source": [
    "\"\"\"The four pillars of OOP or Object Oriented Programming are as follows:\n",
    "\n",
    "1.Inheritance\n",
    "2.Encapsulation\n",
    "3.Polymorphism\n",
    "4.Abstraction\n",
    "\n",
    "Inheritance\n",
    "In Python it is possible to create an object that inherits the methods and properties of another object. This is called inheritance. In inheritance, there is a parent class and a child class. A child class inherits the properties and methods of the parent class.\n",
    "\n",
    "Polymorphism\n",
    "Polymorphism simply means ‘many forms’. In Python this means that you can have one function or object that can be used in different ways. Let’s take an example of the addition operator (+); we can use it to add numbers, but we can also use it to concatenate strings.\n",
    "\n",
    "Encapsulation\n",
    "Encapsulation is the process of making data private by wrapping data and its methods in a ‘capsule’ or unit, so that it can not be accessed or modified outside of that unit. This is achieved by making variables inside a class private. In Python we can make variables private by prefixing the variable name with a double underscore ‘__’. \n",
    "\n",
    "Abstraction\n",
    "The fourth pillar of OOP is Abstraction. Abstraction is about keeping the process simple by hiding unnecessary details from the user. Think of a car; the actual mechanism that keeps a car moving is hidden from the user. It is important to know how to drive a car; but it is not necessarily important to know what happens under the hood when you drive the car. Abstraction is about keeping the internal mechanics of the code hidden from the user. This reduces the complexity of the code, and ensures that we only concentrate on what is important.\n",
    "\"\"\""
   ]
  },
  {
   "cell_type": "markdown",
   "id": "ecc9fa3a-790e-4c15-aa83-f63d98f4fe6e",
   "metadata": {},
   "source": [
    "Q3. Explain why the __init__() function is used. Give a suitable example."
   ]
  },
  {
   "cell_type": "code",
   "execution_count": 18,
   "id": "e38337c2-969b-4e05-a6a8-8fda46e5df40",
   "metadata": {},
   "outputs": [
    {
     "data": {
      "text/plain": [
       "(46756, 5786869897, 'hghjgjhg@gmail.com')"
      ]
     },
     "execution_count": 18,
     "metadata": {},
     "output_type": "execute_result"
    }
   ],
   "source": [
    "\"\"\"__init__ is one of the reserved methods in Python. In object oriented programming, it is known as a constructor. The __init__ method can be called when an object is created from the class, and access is required to initialize the attributes of the class.\"\"\"\n",
    "class xyz:\n",
    "    \n",
    "    # init is constructor inbuit in function\n",
    "    def __init__(self,phone_number,email_id,student_id):\n",
    "        self.phone_number =phone_number\n",
    "        self.email_id=email_id\n",
    "        self.student_id=student_id\n",
    "        \n",
    "    def return_student_details(self):\n",
    "        return self.student_id,self.phone_number,self.email_id\n",
    "q=xyz(5786869897,'hghjgjhg@gmail.com',46756)\n",
    "q.return_student_details()\n"
   ]
  },
  {
   "cell_type": "markdown",
   "id": "9bf7b831-b795-44e3-b1f3-786ef1360c46",
   "metadata": {},
   "source": [
    "Q4. Why self is used in OOPs?"
   ]
  },
  {
   "cell_type": "code",
   "execution_count": 6,
   "id": "742636bc-307b-42eb-831d-04d1fc0cad51",
   "metadata": {},
   "outputs": [],
   "source": [
    "#The self in keyword in Python is used to all the instances in a class. By using the self keyword, one can easily access all the instances defined within a class, including its methods and attributes."
   ]
  },
  {
   "cell_type": "markdown",
   "id": "dc9faee0-c2a3-4a35-bfe1-d414c65831e3",
   "metadata": {},
   "source": [
    "Q5. What is inheritance? Give an example for each type of inheritance."
   ]
  },
  {
   "cell_type": "code",
   "execution_count": 8,
   "id": "229ba35e-c489-4115-ac88-3c2d258edcc6",
   "metadata": {},
   "outputs": [
    {
     "data": {
      "text/plain": [
       "'Inheritance is defined as the mechanism of inheriting the properties of the base class to the child class. \\nTypes of Inheritance depend upon the number of child and parent classes involved. There are four types of inheritance in Python:'"
      ]
     },
     "execution_count": 8,
     "metadata": {},
     "output_type": "execute_result"
    }
   ],
   "source": [
    "\"\"\"Inheritance is defined as the mechanism of inheriting the properties of the base class to the child class. \n",
    "Types of Inheritance depend upon the number of child and parent classes involved. There are four types of inheritance in Python:\"\"\"\n"
   ]
  },
  {
   "cell_type": "code",
   "execution_count": 9,
   "id": "be324e38-1d11-462a-a770-e01de9dd0aac",
   "metadata": {},
   "outputs": [
    {
     "name": "stdout",
     "output_type": "stream",
     "text": [
      "This function is in parent class.\n",
      "This function is in child class.\n"
     ]
    }
   ],
   "source": [
    "\"\"\"1)Single Inheritance: \n",
    "Single inheritance enables a derived class to inherit properties from a single parent class, thus enabling code reusability and the addition of new features to existing code.\"\"\"\n",
    "# Python program to demonstrate\n",
    "# single inheritance\n",
    " \n",
    "# Base class\n",
    "class Parent:\n",
    "    def func1(self):\n",
    "        print(\"This function is in parent class.\")\n",
    " \n",
    "# Derived class\n",
    " \n",
    " \n",
    "class Child(Parent):\n",
    "    def func2(self):\n",
    "        print(\"This function is in child class.\")\n",
    " \n",
    " \n",
    "# Driver's code\n",
    "object = Child()\n",
    "object.func1()\n",
    "object.func2()"
   ]
  },
  {
   "cell_type": "code",
   "execution_count": 10,
   "id": "69b7be5d-7d37-403d-96ed-523cf9e3c718",
   "metadata": {},
   "outputs": [
    {
     "name": "stdout",
     "output_type": "stream",
     "text": [
      "Father : RAM\n",
      "Mother : SITA\n"
     ]
    }
   ],
   "source": [
    "\"\"\"2)Multiple Inheritance: \n",
    "When a class can be derived from more than one base class this type of inheritance is called multiple inheritances. In multiple inheritances, all the features of the base classes are inherited into the derived class.\"\"\"\n",
    "# Python program to demonstrate\n",
    "# multiple inheritance\n",
    " \n",
    "# Base class1\n",
    "class Mother:\n",
    "    mothername = \"\"\n",
    " \n",
    "    def mother(self):\n",
    "        print(self.mothername)\n",
    " \n",
    "# Base class2\n",
    " \n",
    " \n",
    "class Father:\n",
    "    fathername = \"\"\n",
    " \n",
    "    def father(self):\n",
    "        print(self.fathername)\n",
    " \n",
    "# Derived class\n",
    " \n",
    " \n",
    "class Son(Mother, Father):\n",
    "    def parents(self):\n",
    "        print(\"Father :\", self.fathername)\n",
    "        print(\"Mother :\", self.mothername)\n",
    " \n",
    " \n",
    "# Driver's code\n",
    "s1 = Son()\n",
    "s1.fathername = \"RAM\"\n",
    "s1.mothername = \"SITA\"\n",
    "s1.parents()"
   ]
  },
  {
   "cell_type": "code",
   "execution_count": 11,
   "id": "44df1d0c-6c79-4673-a6c0-929d3b568ddc",
   "metadata": {},
   "outputs": [
    {
     "name": "stdout",
     "output_type": "stream",
     "text": [
      "Lal mani\n",
      "Grandfather name : Lal mani\n",
      "Father name : Rampal\n",
      "Son name : Prince\n"
     ]
    }
   ],
   "source": [
    "\"\"\"3)Multilevel Inheritance :\n",
    "In multilevel inheritance, features of the base class and the derived class are further inherited into the new derived class. This is similar to a relationship representing a child and a grandfather. \"\"\"\n",
    "# Python program to demonstrate\n",
    "# multilevel inheritance\n",
    " \n",
    "# Base class\n",
    " \n",
    " \n",
    "class Grandfather:\n",
    " \n",
    "    def __init__(self, grandfathername):\n",
    "        self.grandfathername = grandfathername\n",
    " \n",
    "# Intermediate class\n",
    " \n",
    " \n",
    "class Father(Grandfather):\n",
    "    def __init__(self, fathername, grandfathername):\n",
    "        self.fathername = fathername\n",
    " \n",
    "        # invoking constructor of Grandfather class\n",
    "        Grandfather.__init__(self, grandfathername)\n",
    " \n",
    "# Derived class\n",
    " \n",
    " \n",
    "class Son(Father):\n",
    "    def __init__(self, sonname, fathername, grandfathername):\n",
    "        self.sonname = sonname\n",
    " \n",
    "        # invoking constructor of Father class\n",
    "        Father.__init__(self, fathername, grandfathername)\n",
    " \n",
    "    def print_name(self):\n",
    "        print('Grandfather name :', self.grandfathername)\n",
    "        print(\"Father name :\", self.fathername)\n",
    "        print(\"Son name :\", self.sonname)\n",
    " \n",
    " \n",
    "#  Driver code\n",
    "s1 = Son('Prince', 'Rampal', 'Lal mani')\n",
    "print(s1.grandfathername)\n",
    "s1.print_name()"
   ]
  },
  {
   "cell_type": "code",
   "execution_count": 12,
   "id": "d4c2a760-3221-4d96-b5d1-7aa93d928396",
   "metadata": {},
   "outputs": [
    {
     "name": "stdout",
     "output_type": "stream",
     "text": [
      "This function is in parent class.\n",
      "This function is in child 1.\n",
      "This function is in parent class.\n",
      "This function is in child 2.\n"
     ]
    }
   ],
   "source": [
    "\"\"\"4)Hierarchical Inheritance: \n",
    "When more than one derived class are created from a single base this type of inheritance is called hierarchical inheritance. In this program, we have a parent (base) class and two child (derived) classes.\"\"\"\n",
    "# Python program to demonstrate\n",
    "# Hierarchical inheritance\n",
    " \n",
    " \n",
    "# Base class\n",
    "class Parent:\n",
    "    def func1(self):\n",
    "        print(\"This function is in parent class.\")\n",
    " \n",
    "# Derived class1\n",
    " \n",
    " \n",
    "class Child1(Parent):\n",
    "    def func2(self):\n",
    "        print(\"This function is in child 1.\")\n",
    " \n",
    "# Derivied class2\n",
    " \n",
    " \n",
    "class Child2(Parent):\n",
    "    def func3(self):\n",
    "        print(\"This function is in child 2.\")\n",
    " \n",
    " \n",
    "# Driver's code\n",
    "object1 = Child1()\n",
    "object2 = Child2()\n",
    "object1.func1()\n",
    "object1.func2()\n",
    "object2.func1()\n",
    "object2.func3()"
   ]
  },
  {
   "cell_type": "code",
   "execution_count": 13,
   "id": "c22f34d5-02c9-439f-b82f-e1fe368257b6",
   "metadata": {},
   "outputs": [
    {
     "name": "stdout",
     "output_type": "stream",
     "text": [
      "This function is in school.\n",
      "This function is in student 1. \n"
     ]
    }
   ],
   "source": [
    "\"\"\"5)Hybrid Inheritance: \n",
    "Inheritance consisting of multiple types of inheritance is called hybrid inheritance.\"\"\"\n",
    "# Python program to demonstrate\n",
    "# hybrid inheritance\n",
    " \n",
    " \n",
    "class School:\n",
    "    def func1(self):\n",
    "        print(\"This function is in school.\")\n",
    " \n",
    " \n",
    "class Student1(School):\n",
    "    def func2(self):\n",
    "        print(\"This function is in student 1. \")\n",
    " \n",
    " \n",
    "class Student2(School):\n",
    "    def func3(self):\n",
    "        print(\"This function is in student 2.\")\n",
    " \n",
    " \n",
    "class Student3(Student1, School):\n",
    "    def func4(self):\n",
    "        print(\"This function is in student 3.\")\n",
    " \n",
    " \n",
    "# Driver's code\n",
    "object = Student3()\n",
    "object.func1()\n",
    "object.func2()"
   ]
  },
  {
   "cell_type": "code",
   "execution_count": null,
   "id": "a9980048-f46f-4d9b-8c93-73fb76ed7948",
   "metadata": {},
   "outputs": [],
   "source": []
  }
 ],
 "metadata": {
  "kernelspec": {
   "display_name": "Python 3 (ipykernel)",
   "language": "python",
   "name": "python3"
  },
  "language_info": {
   "codemirror_mode": {
    "name": "ipython",
    "version": 3
   },
   "file_extension": ".py",
   "mimetype": "text/x-python",
   "name": "python",
   "nbconvert_exporter": "python",
   "pygments_lexer": "ipython3",
   "version": "3.10.8"
  }
 },
 "nbformat": 4,
 "nbformat_minor": 5
}
