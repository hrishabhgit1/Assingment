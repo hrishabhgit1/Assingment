{
 "cells": [
  {
   "cell_type": "markdown",
   "id": "af0d9f12-7dfc-4fc2-bbbc-266636fae69b",
   "metadata": {},
   "source": [
    "Q1. You are writing code for a company. The requirement of the company is that you create a python\n",
    "function that will check whether the password entered by the user is correct or not. The function should\n",
    "take the password as input and return the string “Valid Password” if the entered password follows the\n",
    "below-given password guidelines else it should return “Invalid Password”.\n",
    "Note: 1. The Password should contain at least two uppercase letters and at least two lowercase letters.\n",
    "2. The Password should contain at least a number and three special characters.\n",
    "3. The length of the password should be 10 characters long."
   ]
  },
  {
   "cell_type": "code",
   "execution_count": 1,
   "id": "441cbbc5-9141-40e5-8475-2390dfdd5f86",
   "metadata": {},
   "outputs": [],
   "source": [
    "#Ans-1(creation of password checker)\n",
    "def func():\n",
    "    check=input('enter the password')\n",
    "    upper=0\n",
    "    lower=0\n",
    "    special_character=0\n",
    "    num=0\n",
    "    import string\n",
    "    l=[]\n",
    "    for x in string.punctuation:\n",
    "        l.append(x)\n",
    "    \n",
    "        \n",
    "    if len(check)==10:\n",
    "        for password in check:\n",
    "            \n",
    "            if password.isnumeric():\n",
    "                num+=1\n",
    "            elif password.isupper():\n",
    "                upper+=1\n",
    "            elif password.islower():\n",
    "                lower+=1\n",
    "            elif password in l:\n",
    "                special_character+=1\n",
    "    if num>=2 and upper>=2 and lower>=2 and special_character>=3 and (num+upper+lower+special_character==len(check)):\n",
    "        print('valid password')\n",
    "    else :\n",
    "        print('invalid password')\n",
    "    \n",
    "    \n",
    "    \n",
    "    "
   ]
  },
  {
   "cell_type": "code",
   "execution_count": 2,
   "id": "5b5420fa-44c5-401c-8f84-a47152ba2972",
   "metadata": {},
   "outputs": [
    {
     "name": "stdin",
     "output_type": "stream",
     "text": [
      "enter the password JJkk@#$234\n"
     ]
    },
    {
     "name": "stdout",
     "output_type": "stream",
     "text": [
      "valid password\n"
     ]
    }
   ],
   "source": [
    "func()"
   ]
  },
  {
   "cell_type": "markdown",
   "id": "7b674ac9-a3a8-4043-a27b-106183ef16eb",
   "metadata": {},
   "source": [
    "Q2. Solve the below-given questions using at least one of the following:\n",
    "1. Lambda function\n",
    "2. Filter function\n",
    "3. map function\n",
    "4. List Comprehension"
   ]
  },
  {
   "cell_type": "code",
   "execution_count": null,
   "id": "c738f560-d0d2-4e0c-9bef-d2ece6c13fae",
   "metadata": {},
   "outputs": [],
   "source": [
    "#Check if the string starts with a particular letter"
   ]
  },
  {
   "cell_type": "code",
   "execution_count": 10,
   "id": "75d155fb-ad10-4642-bfb1-5ccc47db5098",
   "metadata": {},
   "outputs": [
    {
     "name": "stdin",
     "output_type": "stream",
     "text": [
      "enter the string fdjhfgjhkg\n"
     ]
    },
    {
     "name": "stdout",
     "output_type": "stream",
     "text": [
      "[False]\n"
     ]
    }
   ],
   "source": [
    "\n",
    "texts = input('enter the string')\n",
    "starts = [True if texts.startswith('w') else False ]\n",
    "\n",
    "print(starts)\n"
   ]
  },
  {
   "cell_type": "code",
   "execution_count": 11,
   "id": "c77c9803-a7bb-4da8-a08f-65b3dc2a14c7",
   "metadata": {},
   "outputs": [
    {
     "name": "stdin",
     "output_type": "stream",
     "text": [
      "enter the string wyjgvjvhg\n"
     ]
    },
    {
     "name": "stdout",
     "output_type": "stream",
     "text": [
      "[True]\n"
     ]
    }
   ],
   "source": [
    "\n",
    "texts = input('enter the string')\n",
    "starts = [True if texts.startswith('w') else False ]\n",
    "\n",
    "print(starts)\n"
   ]
  },
  {
   "cell_type": "code",
   "execution_count": 3,
   "id": "ce844f23-8fca-4f83-a2eb-6edc9e871645",
   "metadata": {},
   "outputs": [
    {
     "name": "stdin",
     "output_type": "stream",
     "text": [
      " 765574654\n"
     ]
    },
    {
     "data": {
      "text/plain": [
       "'True'"
      ]
     },
     "execution_count": 3,
     "metadata": {},
     "output_type": "execute_result"
    }
   ],
   "source": [
    "#check if the string is numeric\n",
    "s=input()\n",
    "l=lambda x:x.isnumeric()\n",
    "str(l(s))\n"
   ]
  },
  {
   "cell_type": "code",
   "execution_count": 4,
   "id": "40c3d740-59dd-4150-935b-45e33fc0fc28",
   "metadata": {},
   "outputs": [
    {
     "data": {
      "text/plain": [
       "{'mango': 99, 'orange': 80, 'grapes': 1000}"
      ]
     },
     "execution_count": 4,
     "metadata": {},
     "output_type": "execute_result"
    }
   ],
   "source": [
    "#sorting of tuple list\n",
    "l=[('mango',99),('orange',80),('grapes',1000)]\n",
    "{k:v for k,v in l}"
   ]
  },
  {
   "cell_type": "code",
   "execution_count": 5,
   "id": "834e0b86-c623-4854-9ef7-7458f4d6c8b8",
   "metadata": {},
   "outputs": [
    {
     "data": {
      "text/plain": [
       "[1, 4, 9, 16, 25, 36, 49, 64, 81, 100]"
      ]
     },
     "execution_count": 5,
     "metadata": {},
     "output_type": "execute_result"
    }
   ],
   "source": [
    "#square of no. from 1 to 10\n",
    "q=list(range(1,11))\n",
    "[j**2 for j in q]\n",
    "       "
   ]
  },
  {
   "cell_type": "code",
   "execution_count": 7,
   "id": "17b670a4-92c2-48a0-ba65-a2cb75d2594c",
   "metadata": {},
   "outputs": [
    {
     "data": {
      "text/plain": [
       "[1, 8, 27, 64, 125, 216, 343, 512, 729, 1000]"
      ]
     },
     "execution_count": 7,
     "metadata": {},
     "output_type": "execute_result"
    }
   ],
   "source": [
    "#cube roots of no. from 1 to 10\n",
    "p=list(range(1,11))\n",
    "u=lambda w:w**3\n",
    "list(map(u,p))"
   ]
  },
  {
   "cell_type": "code",
   "execution_count": 9,
   "id": "885310e1-bddf-4435-b396-f9be19373eb4",
   "metadata": {},
   "outputs": [
    {
     "name": "stdin",
     "output_type": "stream",
     "text": [
      " 564634\n"
     ]
    },
    {
     "data": {
      "text/plain": [
       "'True'"
      ]
     },
     "execution_count": 9,
     "metadata": {},
     "output_type": "execute_result"
    }
   ],
   "source": [
    "#check if given n0. is even\n",
    "n=int(input())\n",
    "'True' if n%2==0 else 'False'"
   ]
  },
  {
   "cell_type": "code",
   "execution_count": 10,
   "id": "68ac8597-9d81-4742-a6cb-4321c50239e0",
   "metadata": {},
   "outputs": [
    {
     "data": {
      "text/plain": [
       "[1, 3, 5, 7, 9]"
      ]
     },
     "execution_count": 10,
     "metadata": {},
     "output_type": "execute_result"
    }
   ],
   "source": [
    "#filter odd no. from the list\n",
    "c=[1,2,3,4,5,6,7,8,9,10]\n",
    "g=lambda d:d%2==1\n",
    "list(filter(g,c))"
   ]
  },
  {
   "cell_type": "code",
   "execution_count": 15,
   "id": "17cc30b5-0239-425d-8d38-9f07ef3f4235",
   "metadata": {},
   "outputs": [],
   "source": [
    "#list of integer into positive and negative list\n",
    "o=[1,2,3,4,5,6,0,-1,-2,-3,-4,-5]\n",
    "x=lambda y:y>0\n",
    "b=lambda n:n<0\n",
    "positive=list(filter(x,o))\n",
    "negative=list(filter(b,o))\n",
    "\n"
   ]
  },
  {
   "cell_type": "code",
   "execution_count": 16,
   "id": "5040d464-8636-4bc0-a9f4-0b2fce055c1b",
   "metadata": {},
   "outputs": [
    {
     "data": {
      "text/plain": [
       "[1, 2, 3, 4, 5, 6]"
      ]
     },
     "execution_count": 16,
     "metadata": {},
     "output_type": "execute_result"
    }
   ],
   "source": [
    "positive"
   ]
  },
  {
   "cell_type": "code",
   "execution_count": 17,
   "id": "88f787b5-51b5-4bf4-9c61-5b33e22c811f",
   "metadata": {},
   "outputs": [
    {
     "data": {
      "text/plain": [
       "[-1, -2, -3, -4, -5]"
      ]
     },
     "execution_count": 17,
     "metadata": {},
     "output_type": "execute_result"
    }
   ],
   "source": [
    "negative"
   ]
  },
  {
   "cell_type": "code",
   "execution_count": null,
   "id": "d4c82391-694d-4a24-a49d-577996a0f316",
   "metadata": {},
   "outputs": [],
   "source": []
  }
 ],
 "metadata": {
  "kernelspec": {
   "display_name": "Python 3 (ipykernel)",
   "language": "python",
   "name": "python3"
  },
  "language_info": {
   "codemirror_mode": {
    "name": "ipython",
    "version": 3
   },
   "file_extension": ".py",
   "mimetype": "text/x-python",
   "name": "python",
   "nbconvert_exporter": "python",
   "pygments_lexer": "ipython3",
   "version": "3.10.8"
  }
 },
 "nbformat": 4,
 "nbformat_minor": 5
}
