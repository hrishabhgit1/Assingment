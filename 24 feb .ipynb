{
 "cells": [
  {
   "cell_type": "markdown",
   "id": "01bc4e59-7115-490a-be46-aaf3aa19da2f",
   "metadata": {},
   "source": [
    "Q1. Create a Pandas Series that contains the following data: 4, 8, 15, 16, 23, and 42. Then, print the series."
   ]
  },
  {
   "cell_type": "code",
   "execution_count": 1,
   "id": "ffcbaaaf-d87c-4c7c-8581-21af5339098d",
   "metadata": {},
   "outputs": [
    {
     "name": "stdout",
     "output_type": "stream",
     "text": [
      "0     4\n",
      "1    18\n",
      "2    15\n",
      "3    16\n",
      "4    23\n",
      "5    42\n",
      "dtype: int64\n"
     ]
    }
   ],
   "source": [
    "import pandas as pd\n",
    "Pandas_Series=pd.Series([4,18,15,16,23,42])\n",
    "\n",
    "print(Pandas_Series)\n"
   ]
  },
  {
   "cell_type": "markdown",
   "id": "98dff4ad-e824-4d82-8e3f-6364dac3fcc8",
   "metadata": {},
   "source": [
    "Q2. Create a variable of list type containing 10 elements in it, and apply pandas.Series function on the\n",
    "variable print it."
   ]
  },
  {
   "cell_type": "code",
   "execution_count": 2,
   "id": "cc77f71d-4885-4867-ade1-664db5882ad2",
   "metadata": {},
   "outputs": [
    {
     "name": "stdout",
     "output_type": "stream",
     "text": [
      "0      dance\n",
      "1       read\n",
      "2          1\n",
      "3          4\n",
      "4          6\n",
      "5          4\n",
      "6          2\n",
      "7          1\n",
      "8    2442.23\n",
      "9       True\n",
      "dtype: object <class 'pandas.core.series.Series'>\n"
     ]
    }
   ],
   "source": [
    "import pandas as pd\n",
    "list_l=['dance','read',1,4,6,4,2,1,2442.23,True]\n",
    "Series=pd.Series(list_l)\n",
    "print(Series,type(Series))"
   ]
  },
  {
   "cell_type": "markdown",
   "id": "3f79eba9-c559-46f9-b1da-d98e5df08426",
   "metadata": {},
   "source": [
    "Q3. Create a Pandas DataFrame that contains the following data:\n",
    " Name\n",
    "Alice\n",
    "Bob\n",
    "Claire\n",
    "\n",
    "Age\n",
    "25\n",
    "30\n",
    "27\n",
    "\n",
    "Gender\n",
    "Female\n",
    "Male\n",
    "Female\n",
    "\n",
    "Then, print the DataFrame."
   ]
  },
  {
   "cell_type": "code",
   "execution_count": 3,
   "id": "e5297394-3968-4489-b7fc-5fcd2c0c06e9",
   "metadata": {},
   "outputs": [
    {
     "data": {
      "text/html": [
       "<div>\n",
       "<style scoped>\n",
       "    .dataframe tbody tr th:only-of-type {\n",
       "        vertical-align: middle;\n",
       "    }\n",
       "\n",
       "    .dataframe tbody tr th {\n",
       "        vertical-align: top;\n",
       "    }\n",
       "\n",
       "    .dataframe thead th {\n",
       "        text-align: right;\n",
       "    }\n",
       "</style>\n",
       "<table border=\"1\" class=\"dataframe\">\n",
       "  <thead>\n",
       "    <tr style=\"text-align: right;\">\n",
       "      <th></th>\n",
       "      <th>Name</th>\n",
       "      <th>Age</th>\n",
       "      <th>Gender</th>\n",
       "    </tr>\n",
       "  </thead>\n",
       "  <tbody>\n",
       "    <tr>\n",
       "      <th>0</th>\n",
       "      <td>Alice</td>\n",
       "      <td>25</td>\n",
       "      <td>Female</td>\n",
       "    </tr>\n",
       "    <tr>\n",
       "      <th>1</th>\n",
       "      <td>Bob</td>\n",
       "      <td>30</td>\n",
       "      <td>Male</td>\n",
       "    </tr>\n",
       "    <tr>\n",
       "      <th>2</th>\n",
       "      <td>Claire</td>\n",
       "      <td>27</td>\n",
       "      <td>Female</td>\n",
       "    </tr>\n",
       "  </tbody>\n",
       "</table>\n",
       "</div>"
      ],
      "text/plain": [
       "     Name  Age  Gender\n",
       "0   Alice   25  Female\n",
       "1     Bob   30    Male\n",
       "2  Claire   27  Female"
      ]
     },
     "execution_count": 3,
     "metadata": {},
     "output_type": "execute_result"
    }
   ],
   "source": [
    "import pandas as pd \n",
    "Data={'Name':['Alice','Bob','Claire'],'Age':[25,30,27],'Gender':['Female','Male','Female']}\n",
    "Pandas_Dataframe=pd.DataFrame(Data)\n",
    "Pandas_Dataframe"
   ]
  },
  {
   "cell_type": "markdown",
   "id": "3b7024b0-4d56-48b4-a1a9-e2888f04e2fb",
   "metadata": {},
   "source": [
    "Q4. What is ‘DataFrame’ in pandas and how is it different from pandas.series? Explain with an example."
   ]
  },
  {
   "cell_type": "code",
   "execution_count": 4,
   "id": "4d141e2d-fd4c-4ebb-bcdc-41f2871af92e",
   "metadata": {},
   "outputs": [
    {
     "data": {
      "text/plain": [
       "'Pandas DataFrame is a Two-Dimensional data structure, Portenstitially heterogeneous tabular data structure with labeled axes rows, and columns. pandas Dataframe is consists of three components principal, data, rows, and columns.\\nDataframe Features\\nPotentially columns are of different types.\\nPandas DataFrame size is mutable.\\nDataFrame labeled axes (rows and columns).\\ncan perform arithmetic operations on rows and columns on DataFrame.\\nwhile, Pandas Series is a one-dimensional labeled array capable of holding data of any type (integer, string, float, python objects, etc.). The axis labels are collectively called indexes. Pandas Series is nothing but a column in an excel sheet. Labels need not be unique but must be a hashable type. The object supports both integer and label-based indexing and provides a host of methods for performing operations involving the index.'"
      ]
     },
     "execution_count": 4,
     "metadata": {},
     "output_type": "execute_result"
    }
   ],
   "source": [
    "\"\"\"Pandas DataFrame is a Two-Dimensional data structure, Portenstitially heterogeneous tabular data structure with labeled axes rows, and columns. pandas Dataframe is consists of three components principal, data, rows, and columns.\n",
    "Dataframe Features\n",
    "Potentially columns are of different types.\n",
    "Pandas DataFrame size is mutable.\n",
    "DataFrame labeled axes (rows and columns).\n",
    "can perform arithmetic operations on rows and columns on DataFrame.\n",
    "while, Pandas Series is a one-dimensional labeled array capable of holding data of any type (integer, string, float, python objects, etc.). The axis labels are collectively called indexes. Pandas Series is nothing but a column in an excel sheet. Labels need not be unique but must be a hashable type. The object supports both integer and label-based indexing and provides a host of methods for performing operations involving the index.\"\"\"\n",
    "#If the Q3 is considered ,the output we got represents the table , the whole data  (both row and colunm )represents dataframe while data from single column(eg,Name,Age ,Gender )represents series\n"
   ]
  },
  {
   "cell_type": "markdown",
   "id": "11aad65b-bd12-48b3-bd27-adfc6ad9afde",
   "metadata": {},
   "source": [
    "Q5. What are some common functions you can use to manipulate data in a Pandas DataFrame? Can you give an example of when you might use one of these functions?"
   ]
  },
  {
   "cell_type": "code",
   "execution_count": 5,
   "id": "51ae95b6-c01d-4741-b0a0-8858226ac07f",
   "metadata": {},
   "outputs": [
    {
     "data": {
      "text/plain": [
       "'1) Get the Mean, Median, and Mode\\nYou can also compute the central tendencies of each column in a DataFrame using pandas.\\n\\nHere\\'s how to get the mean value of each column:\\n\\nDataFrame.mean()\\nFor the median or mode value, replace mean() with median() or mode().\\n\\n2) DataFrame.transform\\npandas\\' DataFrame.transform() modifies the values of a DataFrame. It accepts a function as an argument.\\n\\nFor instance, the code below multiplies each value in a DataFrame by three using Python\\'s lambda function:\\n\\nDataFrame = DataFrame.transform(lambda y: y*3)\\nprint(DataFrame)\\n\\n3)DataFrame.isnull\\nThis function returns a Boolean value and flags all rows containing null values as True:\\n\\nDataFrame.isnull()\\nThe result of the above code can be hard to read for larger datasets. So you can use the isnull().sum() function instead. This returns a summary of all missing values for each column:\\n\\nDataFrame.isnull().sum()\\n\\n4)Dataframe.info\\nThe info() function is an essential pandas operation. It returns the summary of non-missing values for each column instead:\\n\\nDataFrame.info()\\n\\n5)DataFrame.describe\\nThe describe() function gives you the summary statistic of a DataFrame:\\n\\nDataFrame.describe()\\n\\n6)DataFrame.replace\\nUsing the DataFrame.replace() method in pandas, you can replace selected rows with other values.\\n\\nFor example, to swap invalid rows with Nan:\\n\\n<strong># Ensure that you pip install numpy for this to work</strong> \\nimport numpy\\n\\nimport pandas\\n<strong># Adding an inplace keyword and setting it to True makes the changes permanent:</strong> \\n\\nDataFrame.replace([invalid_1, invalid_2], numpy.nan, inplace=True)\\nprint(DataFrame)\\n\\n7)DataFrame.fillna\\nThis function lets you fill empty rows with a particular value. You can fill all Nan rows in a dataset with the mean value, for instance:\\n\\nDataFrame.fillna(df.mean(), inplace = True)\\nprint(DataFrame)\\nYou can also be column-specific:\\n\\nDataFrame[\\'column_name\\'].fillna(df[column_name].mean(), inplace = True)\\nprint(DataFrame)\\n\\n8) DataFrame.dropna\\nThe dropna() method removes all rows containing null values:\\n\\nDataFrame.dropna(inplace = True)\\nprint(DataFrame)\\n\\n9)DataFrame.insert\\nYou can use pandas\\' insert() function to add a new column to a DataFrame. It accepts three keywords, the column name, a list of its data, and its location, which is a column index.\\n\\nHere\\'s how that works:\\n\\nDataFrame.insert(column = \\'C\\', value = [3, 4, 6, 7], loc=0)\\nprint(DataFrame)\\nThe above code inserts the new column at the zero column index (it becomes the first column).\\n\\n10) DataFrame.loc\\nYou can use loc to find the elements in a particular index. To view all items in the third row, for instance:\\n\\nDataFrame.loc[2]\\n\\n11)DataFrame.pop\\nThis function lets you remove a specified column from a pandas DataFrame.\\n\\nIt accepts an item keyword, returns the popped column, and separates it from the rest of the DataFrame:\\n\\nDataFrame.pop(item= \\'column_name\\')\\nprint(DataFrame)\\n\\n12)DataFrame.max, min\\nGetting the maximum and minimum values using pandas is easy:\\n\\nDataFrame.min()\\nThe above code returns the minimum value for each column. To get the maximum, replace min with max.\\n\\n13) DataFrame.join\\nThe join() function of pandas lets you merge DataFrames with different column names. You can use the left, right, inner, or outer join. To left-join a DataFrame with two others:\\n\\n#Left-join longer columns with shorter ones\\nnewDataFrame = df1.join([df_shorter2, df_shorter3], how=\\'left\\') \\nprint(newDataFrame)\\nTo join DataFrames with similar column names, you can differentiate them by including a suffix to the left or right. Do this by including the lsuffix or rsuffix keyword:\\n\\nnewDataFrame = df1.join([df2, rsuffix=\\'_\\', how=\\'outer\\') \\nprint(newDataFrame)\\n\\n14) DataFrame.combine\\nThe combine() function comes in handy for merging two DataFrames containing similar column names based on set criteria. It accepts a function keyword.\\n\\nFor instance, to merge two DataFrames with similar column names based on the maximum values only:\\n\\nnewDataFrame = df.combine(df2, numpy.minimum)\\nprint(newDataFrame)\\nNote: You can also define a custom selection function and insert numpy.minimum.\\n\\n15)DataFrame.astype\\nThe astype() function changes the data type of a particular column or DataFrame.\\n\\nTo change all values in a DataFrame to string, for instance:\\n\\nDataFrame.astype(str)\\n\\n16) DataFrame.sum\\nThe sum() function in pandas returns the sum of the values in each column:\\n\\nDataFrame.sum()\\nYou can also find the cumulative sum of all items using cumsum():\\n\\nDataFrame.cumsum()\\n\\n17)DataFrame.drop\\npandas\\' drop() function deletes specific rows or columns in a DataFrame. You have to supply the column names or row index and an axis to use it.\\n\\nTo remove specific columns, for example:\\n\\ndf.drop(columns=[\\'colum1\\', \\'column2\\'], axis=0)\\nTo drop rows on indexes 1, 3, and 4, for instance:\\n\\ndf.drop([1, 3, 4], axis=0)\\n\\n18)DataFrame.corr\\nWant to find the correlation between integer or float columns? pandas can help you achieve that using the corr() function:\\n\\nDataFrame.corr()\\nThe above code returns a new DataFrame containing the correlation sequence between all integer or float columns.\\n\\n19) DataFrame.add\\nThe add() function lets you add a specific number to each value in DataFrame. It works by iterating through a DataFrame and operating on each item.\\n\\nRELATED:\\nHow To Use For Loops In Python\\n\\nTo add 20 to each of the values in a specific column containing integers or floats, for instance:\\n\\nDataFrame[\\'interger_column\\'].add(20)\\n20. DataFrame.sub\\nLike the addition function, you can also subtract a number from each value in a DataFrame or specific column:\\n\\nDataFrame[\\'interger_column\\'].sub(10)\\n21. DataFrame.mul\\nThis is a multiplication version of the addition function of pandas:\\n\\nDataFrame[\\'interger_column\\'].mul(20)\\n22. DataFrame.div\\nSimilarly, you can divide each data point in a column or DataFrame by a specific number:\\n\\nDataFrame[\\'interger_column\\'].div(20)\\n23. DataFrame.std\\nUsing the std() function, pandas also lets you compute the standard deviation for each column in a DataFrame. It works by iterating through each column in a dataset and calculating the standard deviation for each:\\n\\nDataFrame.std()\\n24. DataFrame.sort_values\\nYou can also sort values ascendingly or descendingly based on a particular column. To sort a DataFrame in descending order, for example:\\n\\nnewDataFrame = DataFrame.sort_values(by = \"colmun_name\", descending = True)\\n25. DataFrame.melt\\nThe melt() function in pandas flips the columns in a DataFrame to individual rows. It\\'s like exposing the anatomy of a DataFrame. So it lets you view the value assigned to each column explicitly.\\n\\nnewDataFrame = DataFrame.melt()\\n26. DataFrame.count\\nThis function returns the total number of items in each column:\\n\\nDataFrame.count()\\n27. DataFrame.query\\npandas\\' query() lets you call items using their index number. To get the items in the third row, for example:\\n\\nDataFrame.query(\\'4\\') <strong># Call the query on the fourth index</strong> \\n\\n28. DataFrame.where\\nThe where() function is a pandas query that accepts a condition for getting specific values in a column. For instance, to get all ages less than 30 from an Age column:\\n\\nDataFrame.where(DataFrame[\\'Age\\'] < 30)\\nThe above code outputs a DataFrame containing all ages less than 30 but assigns Nan to rows that don\\'t meet the condition. \\u200b\\u200b\\u200b'"
      ]
     },
     "execution_count": 5,
     "metadata": {},
     "output_type": "execute_result"
    }
   ],
   "source": [
    "\"\"\"1) Get the Mean, Median, and Mode\n",
    "You can also compute the central tendencies of each column in a DataFrame using pandas.\n",
    "\n",
    "Here's how to get the mean value of each column:\n",
    "\n",
    "DataFrame.mean()\n",
    "For the median or mode value, replace mean() with median() or mode().\n",
    "\n",
    "2) DataFrame.transform\n",
    "pandas' DataFrame.transform() modifies the values of a DataFrame. It accepts a function as an argument.\n",
    "\n",
    "For instance, the code below multiplies each value in a DataFrame by three using Python's lambda function:\n",
    "\n",
    "DataFrame = DataFrame.transform(lambda y: y*3)\n",
    "print(DataFrame)\n",
    "\n",
    "3)DataFrame.isnull\n",
    "This function returns a Boolean value and flags all rows containing null values as True:\n",
    "\n",
    "DataFrame.isnull()\n",
    "The result of the above code can be hard to read for larger datasets. So you can use the isnull().sum() function instead. This returns a summary of all missing values for each column:\n",
    "\n",
    "DataFrame.isnull().sum()\n",
    "\n",
    "4)Dataframe.info\n",
    "The info() function is an essential pandas operation. It returns the summary of non-missing values for each column instead:\n",
    "\n",
    "DataFrame.info()\n",
    "\n",
    "5)DataFrame.describe\n",
    "The describe() function gives you the summary statistic of a DataFrame:\n",
    "\n",
    "DataFrame.describe()\n",
    "\n",
    "6)DataFrame.replace\n",
    "Using the DataFrame.replace() method in pandas, you can replace selected rows with other values.\n",
    "\n",
    "For example, to swap invalid rows with Nan:\n",
    "\n",
    "<strong># Ensure that you pip install numpy for this to work</strong> \n",
    "import numpy\n",
    "\n",
    "import pandas\n",
    "<strong># Adding an inplace keyword and setting it to True makes the changes permanent:</strong> \n",
    "\n",
    "DataFrame.replace([invalid_1, invalid_2], numpy.nan, inplace=True)\n",
    "print(DataFrame)\n",
    "\n",
    "7)DataFrame.fillna\n",
    "This function lets you fill empty rows with a particular value. You can fill all Nan rows in a dataset with the mean value, for instance:\n",
    "\n",
    "DataFrame.fillna(df.mean(), inplace = True)\n",
    "print(DataFrame)\n",
    "You can also be column-specific:\n",
    "\n",
    "DataFrame['column_name'].fillna(df[column_name].mean(), inplace = True)\n",
    "print(DataFrame)\n",
    "\n",
    "8) DataFrame.dropna\n",
    "The dropna() method removes all rows containing null values:\n",
    "\n",
    "DataFrame.dropna(inplace = True)\n",
    "print(DataFrame)\n",
    "\n",
    "9)DataFrame.insert\n",
    "You can use pandas' insert() function to add a new column to a DataFrame. It accepts three keywords, the column name, a list of its data, and its location, which is a column index.\n",
    "\n",
    "Here's how that works:\n",
    "\n",
    "DataFrame.insert(column = 'C', value = [3, 4, 6, 7], loc=0)\n",
    "print(DataFrame)\n",
    "The above code inserts the new column at the zero column index (it becomes the first column).\n",
    "\n",
    "10) DataFrame.loc\n",
    "You can use loc to find the elements in a particular index. To view all items in the third row, for instance:\n",
    "\n",
    "DataFrame.loc[2]\n",
    "\n",
    "11)DataFrame.pop\n",
    "This function lets you remove a specified column from a pandas DataFrame.\n",
    "\n",
    "It accepts an item keyword, returns the popped column, and separates it from the rest of the DataFrame:\n",
    "\n",
    "DataFrame.pop(item= 'column_name')\n",
    "print(DataFrame)\n",
    "\n",
    "12)DataFrame.max, min\n",
    "Getting the maximum and minimum values using pandas is easy:\n",
    "\n",
    "DataFrame.min()\n",
    "The above code returns the minimum value for each column. To get the maximum, replace min with max.\n",
    "\n",
    "13) DataFrame.join\n",
    "The join() function of pandas lets you merge DataFrames with different column names. You can use the left, right, inner, or outer join. To left-join a DataFrame with two others:\n",
    "\n",
    "#Left-join longer columns with shorter ones\n",
    "newDataFrame = df1.join([df_shorter2, df_shorter3], how='left') \n",
    "print(newDataFrame)\n",
    "To join DataFrames with similar column names, you can differentiate them by including a suffix to the left or right. Do this by including the lsuffix or rsuffix keyword:\n",
    "\n",
    "newDataFrame = df1.join([df2, rsuffix='_', how='outer') \n",
    "print(newDataFrame)\n",
    "\n",
    "14) DataFrame.combine\n",
    "The combine() function comes in handy for merging two DataFrames containing similar column names based on set criteria. It accepts a function keyword.\n",
    "\n",
    "For instance, to merge two DataFrames with similar column names based on the maximum values only:\n",
    "\n",
    "newDataFrame = df.combine(df2, numpy.minimum)\n",
    "print(newDataFrame)\n",
    "Note: You can also define a custom selection function and insert numpy.minimum.\n",
    "\n",
    "15)DataFrame.astype\n",
    "The astype() function changes the data type of a particular column or DataFrame.\n",
    "\n",
    "To change all values in a DataFrame to string, for instance:\n",
    "\n",
    "DataFrame.astype(str)\n",
    "\n",
    "16) DataFrame.sum\n",
    "The sum() function in pandas returns the sum of the values in each column:\n",
    "\n",
    "DataFrame.sum()\n",
    "You can also find the cumulative sum of all items using cumsum():\n",
    "\n",
    "DataFrame.cumsum()\n",
    "\n",
    "17)DataFrame.drop\n",
    "pandas' drop() function deletes specific rows or columns in a DataFrame. You have to supply the column names or row index and an axis to use it.\n",
    "\n",
    "To remove specific columns, for example:\n",
    "\n",
    "df.drop(columns=['colum1', 'column2'], axis=0)\n",
    "To drop rows on indexes 1, 3, and 4, for instance:\n",
    "\n",
    "df.drop([1, 3, 4], axis=0)\n",
    "\n",
    "18)DataFrame.corr\n",
    "Want to find the correlation between integer or float columns? pandas can help you achieve that using the corr() function:\n",
    "\n",
    "DataFrame.corr()\n",
    "The above code returns a new DataFrame containing the correlation sequence between all integer or float columns.\n",
    "\n",
    "19) DataFrame.add\n",
    "The add() function lets you add a specific number to each value in DataFrame. It works by iterating through a DataFrame and operating on each item.\n",
    "\n",
    "RELATED:\n",
    "How To Use For Loops In Python\n",
    "\n",
    "To add 20 to each of the values in a specific column containing integers or floats, for instance:\n",
    "\n",
    "DataFrame['interger_column'].add(20)\n",
    "20. DataFrame.sub\n",
    "Like the addition function, you can also subtract a number from each value in a DataFrame or specific column:\n",
    "\n",
    "DataFrame['interger_column'].sub(10)\n",
    "21. DataFrame.mul\n",
    "This is a multiplication version of the addition function of pandas:\n",
    "\n",
    "DataFrame['interger_column'].mul(20)\n",
    "22. DataFrame.div\n",
    "Similarly, you can divide each data point in a column or DataFrame by a specific number:\n",
    "\n",
    "DataFrame['interger_column'].div(20)\n",
    "23. DataFrame.std\n",
    "Using the std() function, pandas also lets you compute the standard deviation for each column in a DataFrame. It works by iterating through each column in a dataset and calculating the standard deviation for each:\n",
    "\n",
    "DataFrame.std()\n",
    "24. DataFrame.sort_values\n",
    "You can also sort values ascendingly or descendingly based on a particular column. To sort a DataFrame in descending order, for example:\n",
    "\n",
    "newDataFrame = DataFrame.sort_values(by = \"colmun_name\", descending = True)\n",
    "25. DataFrame.melt\n",
    "The melt() function in pandas flips the columns in a DataFrame to individual rows. It's like exposing the anatomy of a DataFrame. So it lets you view the value assigned to each column explicitly.\n",
    "\n",
    "newDataFrame = DataFrame.melt()\n",
    "26. DataFrame.count\n",
    "This function returns the total number of items in each column:\n",
    "\n",
    "DataFrame.count()\n",
    "27. DataFrame.query\n",
    "pandas' query() lets you call items using their index number. To get the items in the third row, for example:\n",
    "\n",
    "DataFrame.query('4') <strong># Call the query on the fourth index</strong> \n",
    "\n",
    "28. DataFrame.where\n",
    "The where() function is a pandas query that accepts a condition for getting specific values in a column. For instance, to get all ages less than 30 from an Age column:\n",
    "\n",
    "DataFrame.where(DataFrame['Age'] < 30)\n",
    "The above code outputs a DataFrame containing all ages less than 30 but assigns Nan to rows that don't meet the condition. ​​​\"\"\""
   ]
  },
  {
   "cell_type": "markdown",
   "id": "7c857bce-46e9-414c-907b-1000ca82b7c8",
   "metadata": {},
   "source": [
    "Q6. Which of the following is mutable in nature Series, DataFrame, Panel?"
   ]
  },
  {
   "cell_type": "code",
   "execution_count": 7,
   "id": "871406ac-7927-4528-915a-a59d8de510fd",
   "metadata": {},
   "outputs": [
    {
     "data": {
      "text/plain": [
       "'Series in Pandas:\\nSeries is a one-dimensional array with homogeneous data.  All the elements of series should be of same data type\\n\\nKey Features of a Series:\\nHomogeneous data\\nSize Immutable –size cannot be changed\\nValues of Data Mutable'"
      ]
     },
     "execution_count": 7,
     "metadata": {},
     "output_type": "execute_result"
    }
   ],
   "source": [
    "\"\"\"Series in Pandas:\n",
    "Series is a one-dimensional array with homogeneous data.  All the elements of series should be of same data type\n",
    "\n",
    "Key Features of a Series:\n",
    "Homogeneous data\n",
    "Size Immutable –size cannot be changed\n",
    "Values of Data Mutable\"\"\"\n"
   ]
  },
  {
   "cell_type": "code",
   "execution_count": 8,
   "id": "eeb21bfb-4211-4404-a98d-628c5c1d1856",
   "metadata": {},
   "outputs": [
    {
     "data": {
      "text/plain": [
       "'DataFrame in pandas:\\nDataFrame is a two-dimensional array with heterogeneous data, usually represented in the tabular format. The data is represented in rows and columns.\\nKey Features of a DataFrame:\\nHeterogeneous data\\nSize Mutable\\nData Mutable'"
      ]
     },
     "execution_count": 8,
     "metadata": {},
     "output_type": "execute_result"
    }
   ],
   "source": [
    "\"\"\"DataFrame in pandas:\n",
    "DataFrame is a two-dimensional array with heterogeneous data, usually represented in the tabular format. The data is represented in rows and columns.\n",
    "Key Features of a DataFrame:\n",
    "Heterogeneous data\n",
    "Size Mutable\n",
    "Data Mutable\"\"\""
   ]
  },
  {
   "cell_type": "code",
   "execution_count": 9,
   "id": "77a770bf-ce14-4419-9bfb-f46c23c07880",
   "metadata": {},
   "outputs": [
    {
     "data": {
      "text/plain": [
       "'Panel in pandas:\\nPanel is a three-dimensional data structure with heterogeneous data.\\n\\nKey Features of a Panel:\\nHeterogeneous data\\nSize Mutable\\nData Mutable'"
      ]
     },
     "execution_count": 9,
     "metadata": {},
     "output_type": "execute_result"
    }
   ],
   "source": [
    "\"\"\"Panel in pandas:\n",
    "Panel is a three-dimensional data structure with heterogeneous data.\n",
    "\n",
    "Key Features of a Panel:\n",
    "Heterogeneous data\n",
    "Size Mutable\n",
    "Data Mutable\"\"\""
   ]
  },
  {
   "cell_type": "markdown",
   "id": "60ee63ce-2a2c-436b-8eb1-75681d1e1b0c",
   "metadata": {},
   "source": [
    "Q7. Create a DataFrame using multiple Series. Explain with an example."
   ]
  },
  {
   "cell_type": "code",
   "execution_count": 11,
   "id": "cfe0ae1b-03cd-4ab2-b674-e99cdd15e3ec",
   "metadata": {},
   "outputs": [
    {
     "data": {
      "text/html": [
       "<div>\n",
       "<style scoped>\n",
       "    .dataframe tbody tr th:only-of-type {\n",
       "        vertical-align: middle;\n",
       "    }\n",
       "\n",
       "    .dataframe tbody tr th {\n",
       "        vertical-align: top;\n",
       "    }\n",
       "\n",
       "    .dataframe thead th {\n",
       "        text-align: right;\n",
       "    }\n",
       "</style>\n",
       "<table border=\"1\" class=\"dataframe\">\n",
       "  <thead>\n",
       "    <tr style=\"text-align: right;\">\n",
       "      <th></th>\n",
       "      <th>0</th>\n",
       "      <th>1</th>\n",
       "      <th>2</th>\n",
       "      <th>3</th>\n",
       "      <th>4</th>\n",
       "      <th>5</th>\n",
       "      <th>6</th>\n",
       "      <th>7</th>\n",
       "      <th>8</th>\n",
       "      <th>9</th>\n",
       "    </tr>\n",
       "  </thead>\n",
       "  <tbody>\n",
       "    <tr>\n",
       "      <th>0</th>\n",
       "      <td>a</td>\n",
       "      <td>1</td>\n",
       "      <td>2</td>\n",
       "      <td>3</td>\n",
       "      <td>4</td>\n",
       "      <td>5</td>\n",
       "      <td>6</td>\n",
       "      <td>7</td>\n",
       "      <td>8</td>\n",
       "      <td>9</td>\n",
       "    </tr>\n",
       "    <tr>\n",
       "      <th>1</th>\n",
       "      <td>b</td>\n",
       "      <td>9</td>\n",
       "      <td>8</td>\n",
       "      <td>7</td>\n",
       "      <td>6</td>\n",
       "      <td>5</td>\n",
       "      <td>4</td>\n",
       "      <td>3</td>\n",
       "      <td>2</td>\n",
       "      <td>1</td>\n",
       "    </tr>\n",
       "    <tr>\n",
       "      <th>2</th>\n",
       "      <td>c</td>\n",
       "      <td>2</td>\n",
       "      <td>4</td>\n",
       "      <td>6</td>\n",
       "      <td>8</td>\n",
       "      <td>9</td>\n",
       "      <td>7</td>\n",
       "      <td>5</td>\n",
       "      <td>3</td>\n",
       "      <td>1</td>\n",
       "    </tr>\n",
       "  </tbody>\n",
       "</table>\n",
       "</div>"
      ],
      "text/plain": [
       "   0  1  2  3  4  5  6  7  8  9\n",
       "0  a  1  2  3  4  5  6  7  8  9\n",
       "1  b  9  8  7  6  5  4  3  2  1\n",
       "2  c  2  4  6  8  9  7  5  3  1"
      ]
     },
     "execution_count": 11,
     "metadata": {},
     "output_type": "execute_result"
    }
   ],
   "source": [
    "import pandas as pd\n",
    "Series1=pd.Series(['a',1,2,3,4,5,6,7,8,9])\n",
    "Series2=pd.Series(['b',9,8,7,6,5,4,3,2,1])\n",
    "Series3=pd.Series(['c',2,4,6,8,9,7,5,3,1])\n",
    "Dataframe=pd.DataFrame([Series1,Series2,Series3])\n",
    "Dataframe"
   ]
  },
  {
   "cell_type": "code",
   "execution_count": null,
   "id": "1d4f49ef-ece1-4728-a5db-7141e1054551",
   "metadata": {},
   "outputs": [],
   "source": []
  }
 ],
 "metadata": {
  "kernelspec": {
   "display_name": "Python 3 (ipykernel)",
   "language": "python",
   "name": "python3"
  },
  "language_info": {
   "codemirror_mode": {
    "name": "ipython",
    "version": 3
   },
   "file_extension": ".py",
   "mimetype": "text/x-python",
   "name": "python",
   "nbconvert_exporter": "python",
   "pygments_lexer": "ipython3",
   "version": "3.10.8"
  }
 },
 "nbformat": 4,
 "nbformat_minor": 5
}
