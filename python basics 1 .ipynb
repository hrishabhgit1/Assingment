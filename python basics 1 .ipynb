{
 "cells": [
  {
   "cell_type": "markdown",
   "id": "108558a7-904c-4f15-b5fc-e4dfe25a46de",
   "metadata": {},
   "source": [
    "1)who developed the python programming language?"
   ]
  },
  {
   "cell_type": "markdown",
   "id": "54c90cf6-baaf-4ab9-97ca-209bccd0f294",
   "metadata": {},
   "source": [
    "ans-initially designed by Guido van Rossum in 1991 and developed by Python Software Foundation"
   ]
  },
  {
   "cell_type": "markdown",
   "id": "533e13f0-fc67-4ee3-97b7-1b26bbd53da2",
   "metadata": {},
   "source": [
    "2)which type of programming does python support?"
   ]
  },
  {
   "cell_type": "markdown",
   "id": "ec490e3d-7a31-4e59-9dcb-96695276b831",
   "metadata": {},
   "source": [
    "ans-Python is a multi-paradigm programming language. Object-oriented programming and structured programming are fully supported, and many of its features support functional programming and aspect-oriented programming "
   ]
  },
  {
   "cell_type": "markdown",
   "id": "6bf9d315-183a-4b85-bb5a-f2ff0dfe05f4",
   "metadata": {},
   "source": [
    "3)is python case sensitive when dealing with identifiers?"
   ]
  },
  {
   "cell_type": "markdown",
   "id": "3e7eceae-ef6d-4c9a-a8e8-e3d27d37e17b",
   "metadata": {},
   "source": [
    "ans- Python is a case-sensitive language. This means, Variable and variable are not the same. Always give the identifiers a name that makes sense."
   ]
  },
  {
   "cell_type": "markdown",
   "id": "4304d4bf-d911-4a5a-8ef7-61f1a5bdaf1b",
   "metadata": {},
   "source": [
    "4)what is the correct extension of the python file?\n",
    "ans-ipynb"
   ]
  },
  {
   "cell_type": "markdown",
   "id": "4cb9b9f3-b187-47fc-9c30-9b38346e8f59",
   "metadata": {},
   "source": [
    "5)is python compiled or interpreted?\n",
    "  ans- python program is first compiled and then interpreted"
   ]
  },
  {
   "cell_type": "markdown",
   "id": "520a9cbe-0176-4938-af0e-da325bf41f62",
   "metadata": {},
   "source": [
    "6)Name a few blocks of code used to define In Python language?\n",
    "ans-Indentation- refers to whitespaces at the beginning of the line."
   ]
  },
  {
   "cell_type": "markdown",
   "id": "aba7c21a-fd60-4cb4-9b40-938deee4c299",
   "metadata": {},
   "source": [
    "7)State a character used to give single-line comments in Python?\n",
    "ans-'#'\n"
   ]
  },
  {
   "cell_type": "markdown",
   "id": "f0e1edae-c5ce-4054-8fb4-7cddafc074a3",
   "metadata": {},
   "source": [
    "8)mention functions which can help us to find the version of python that we are currently working on?\n",
    "ans-import sys\n",
    "print(\"Python version\")\n",
    "print (sys.version)\n"
   ]
  },
  {
   "cell_type": "markdown",
   "id": "2b92a9b7-a338-43d3-951c-8333c69a112f",
   "metadata": {},
   "source": [
    "9)Python supports the creation of anonymous functions at runtime , using a construct called?\n",
    "ans-lambda function"
   ]
  },
  {
   "cell_type": "markdown",
   "id": "c354398c-3bd4-47e7-afcd-2c40adfa1285",
   "metadata": {},
   "source": [
    "10)what does pip stand for python?\n",
    "ans-package manager"
   ]
  },
  {
   "cell_type": "markdown",
   "id": "2c3234a8-1417-4dda-aeb3-f7196b465389",
   "metadata": {},
   "source": [
    "11)mention a few built -in functions iin python?\n",
    "ans-'count','add','append','extend','isalpha','index',etc"
   ]
  },
  {
   "cell_type": "markdown",
   "id": "72a23ada-1c6b-4613-be1a-dfe97428d7e0",
   "metadata": {},
   "source": [
    "12)What is the maximum possible length of an identifier in python?\n",
    "ans-79 characters"
   ]
  },
  {
   "cell_type": "raw",
   "id": "92f511f5-5b6b-4307-8903-e89e8e25f1b9",
   "metadata": {},
   "source": [
    "13)What are the benefits of using Python?\n",
    "ans-BENEFITS OF USING PYTHON\n",
    "VERSATILITY\n",
    "OPEN SOURCE\n",
    "VIBRANT COMMUNITY\n",
    "WORK WITH LESS CODE\n",
    "EASY INTEGRATIONS\n",
    "PRODUCTIVITY\n",
    "OBJECT-ORIENTED PROGRAMMING\n",
    "SAFETY AND SECURITY\n",
    "EASY SYNTAX\n",
    "HIGH-LEVEL LANGUAGE AND EASY READABILITY\n"
   ]
  },
  {
   "cell_type": "markdown",
   "id": "ca2a7b58-bccd-4846-b22f-3883158d17b6",
   "metadata": {},
   "source": [
    "14)how is memory managed in python?\n",
    "ans- In Python memory allocation and deallocation method is automatic as the Python developers created a garbage collector for Python so that the user does not have to do manual garbage collection."
   ]
  },
  {
   "cell_type": "markdown",
   "id": "4425524e-0c10-4916-bb40-95074b6b11c7",
   "metadata": {},
   "source": [
    "15)how to install python on windows and se path variables?\n",
    "ans-Installing Python on Windows takes a series of few easy steps.\n",
    "\n",
    "Step 1 − Select Version of Python to Install\n",
    "Python has various versions available with differences between the syntax and working of different versions of the language. We need to choose the version which we want to use or need. There are different versions of Python 2 and Python 3 available.\n",
    "\n",
    "Step 2 − Download Python Executable Installer\n",
    "On the web browser, in the official site of python (www.python.org), move to the Download for Windows section.\n",
    "\n",
    "All the available versions of Python will be listed. Select the version required by you and click on Download. Let suppose, we chose the Python 3.9.1 version.\n",
    "\n",
    "\n",
    "\n",
    "On clicking download, various available executable installers shall be visible with different operating system specifications. Choose the installer which suits your system operating system and download the instlaller. Let suppose, we select the Windows installer(64 bits).\n",
    "\n",
    "The download size is less than 30MB.\n",
    "\n",
    "\n",
    "\n",
    "Step 3 − Run Executable Installer\n",
    "We downloaded the Python 3.9.1 Windows 64 bit installer.\n",
    "\n",
    "Run the installer. Make sure to select both the checkboxes at the bottom and then click Install New.\n",
    "\n",
    "\n",
    "\n",
    "On clicking the Install Now, The installation process starts.\n",
    "\n",
    "\n",
    "\n",
    "The installation process will take few minutes to complete and once the installation is successful, the following screen is displayed.\n",
    "\n",
    "\n",
    "\n",
    "Step 4 − Verify Python is installed on Windows\n",
    "To ensure if Python is succesfully installed on your system. Follow the given steps −\n",
    "\n",
    "Open the command prompt.\n",
    "\n",
    "Type ‘python’ and press enter.\n",
    "\n",
    "The version of the python which you have installed will be displayed if the python is successfully installed on your windows.\n",
    "\n",
    "\n",
    "\n",
    "Step 5 − Verify Pip was installed\n",
    "Pip is a powerful package management system for Python software packages. Thus, make sure that you have it installed.\n",
    "\n",
    "To verify if pip was installed, follow the given steps −\n",
    "\n",
    "Open the command prompt.\n",
    "\n",
    "Enter pip –V to check if pip was installed.\n",
    "\n",
    "The following output appears if pip is installed successfully.\n",
    "\n",
    "\n",
    "\n",
    "We have successfully installed python and pip on our Windows system.\n",
    "\n",
    "set path variable:To add Python to your Windows PATH, you need to get its installation path. To do that, open up the Windows search bar and type python.exe (don't hit the Enter key). Then right-click on Python.exe that pops up in the resulting menu and select the Open file location option.\n",
    "In the Explorer windows that opens, click on the long directory bar to the left of the search bar. Highlight and copy the entire path text to your clipboard with Ctrl + c. Then continue with the next steps below.\n",
    "To add Python to the PATH in User variables, right-click on This PC, and select Properties. Once in the properties menu, click on the Advanced system settings option. In the next window, select the Advanced tab, and select Environment Variables.\n",
    "The Environment Variables menu has two distinct parts: an upper part called User variables, and a lower part named System variables. However, our focus is on the User variables in this case.\n",
    "Within the User variables menu, locate a variable called Path. Then paste the path you copied earlier in the Variable value option using Ctrl + v and click Ok.\n",
    "\n",
    "However, if you can't find that variable, you might need to create it. To do that, click on New. Next, in the Variable name form, type Path, and paste your Python path in the Variable value field.\n",
    "Go back to your Python installation path folder and double-click on Scripts to open that directory. Next, copy its path from the path bar at the upper part of the windows (besides the search bar), just like you did earlier for the Python installation path.\n",
    "\n",
    "Once you've copied the Scripts path, head back to the Environment Variables. Next, select the Path variable and click on Edit. Type a semi-colon after your Python executable path and paste the Scripts path you just copied after it. Then click Ok.\n",
    "\n",
    "\n",
    "\n",
    "\n",
    "\n"
   ]
  },
  {
   "cell_type": "markdown",
   "id": "5006bc2b-f75b-4d73-b0d9-ffc989bd0e16",
   "metadata": {},
   "source": [
    "15)is indentation required in python?\n",
    "ans-yes,it is very necessary to separate block of codes"
   ]
  },
  {
   "cell_type": "code",
   "execution_count": null,
   "id": "ce6014a5-aadc-476a-abcb-2fdf2bf4fa2a",
   "metadata": {},
   "outputs": [],
   "source": []
  }
 ],
 "metadata": {
  "kernelspec": {
   "display_name": "Python 3 (ipykernel)",
   "language": "python",
   "name": "python3"
  },
  "language_info": {
   "codemirror_mode": {
    "name": "ipython",
    "version": 3
   },
   "file_extension": ".py",
   "mimetype": "text/x-python",
   "name": "python",
   "nbconvert_exporter": "python",
   "pygments_lexer": "ipython3",
   "version": "3.10.8"
  }
 },
 "nbformat": 4,
 "nbformat_minor": 5
}
