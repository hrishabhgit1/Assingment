{
 "cells": [
  {
   "cell_type": "markdown",
   "id": "73db7126-fb11-4eb3-9058-8f91b2e60f43",
   "metadata": {},
   "source": [
    "Q1. Which keyword is used to create a function? Create a function to return a list of odd numbers in the\n",
    "range of 1 to 25."
   ]
  },
  {
   "cell_type": "code",
   "execution_count": 1,
   "id": "9a0b68ab-9cff-4f67-86d6-b26e06ed690f",
   "metadata": {},
   "outputs": [],
   "source": [
    "\"\"\" 'def' is used as keyword to create a function before the function name\"\"\"\n",
    "def odd_number():\n",
    "    l=[]\n",
    "    for i in range(1,25):\n",
    "        if i%2==1:\n",
    "            l.append(i)\n",
    "    return l\n",
    "        "
   ]
  },
  {
   "cell_type": "code",
   "execution_count": 2,
   "id": "dd89d393-34fc-4378-b281-eb6de10423b7",
   "metadata": {},
   "outputs": [
    {
     "data": {
      "text/plain": [
       "[1, 3, 5, 7, 9, 11, 13, 15, 17, 19, 21, 23]"
      ]
     },
     "execution_count": 2,
     "metadata": {},
     "output_type": "execute_result"
    }
   ],
   "source": [
    "#output\n",
    "odd_number()"
   ]
  },
  {
   "cell_type": "markdown",
   "id": "67ebeba8-8f35-451f-a186-7f54f0821b86",
   "metadata": {},
   "source": [
    "Q2. Why *args and **kwargs is used in some functions? Create a function each for *args and **kwargs\n",
    "to demonstrate their use."
   ]
  },
  {
   "cell_type": "code",
   "execution_count": 3,
   "id": "678eb768-e130-4deb-a97c-17df06c823d9",
   "metadata": {},
   "outputs": [],
   "source": [
    "# *args is used in some function to get back the given list,integer,string,etc in tuple form ,when fuction is called upon.however, it should be noted here ,the args can be replaced by other word ,but not the  asterisk(*)\n",
    "def f(*args):\n",
    "    return args"
   ]
  },
  {
   "cell_type": "code",
   "execution_count": 4,
   "id": "cf01ed9d-5989-48ff-94bc-9883cbf172e9",
   "metadata": {},
   "outputs": [
    {
     "data": {
      "text/plain": [
       "(11, 33, 'fdhhj', 'khkjh', 312)"
      ]
     },
     "execution_count": 4,
     "metadata": {},
     "output_type": "execute_result"
    }
   ],
   "source": [
    "f(11,33,'fdhhj','khkjh',312)"
   ]
  },
  {
   "cell_type": "code",
   "execution_count": 5,
   "id": "a2689cd0-b778-485b-bc7f-cd7cd37d86a5",
   "metadata": {},
   "outputs": [
    {
     "data": {
      "text/plain": [
       "tuple"
      ]
     },
     "execution_count": 5,
     "metadata": {},
     "output_type": "execute_result"
    }
   ],
   "source": [
    "type(f(11,33,'fdhhj','khkjh',312))"
   ]
  },
  {
   "cell_type": "code",
   "execution_count": 6,
   "id": "e713152c-1613-4fd2-9920-7be59545d5d7",
   "metadata": {},
   "outputs": [],
   "source": [
    "# **kwargs is used in some fuction to get back given input in dictionary  format ,when function is called upon .however, it should be noted here ,the kwargs can be replaced by other word ,but not the double asterisk(**)\n",
    "def l(**kwargs):\n",
    "    return kwargs"
   ]
  },
  {
   "cell_type": "code",
   "execution_count": 7,
   "id": "5f5595d9-b495-4daa-b594-af3b5c95d188",
   "metadata": {},
   "outputs": [
    {
     "data": {
      "text/plain": [
       "{'a': 234242, 'b': 'hbvbkhb', 'c': 87697987, 'd': [2, 4, 2, 1, 4, 8]}"
      ]
     },
     "execution_count": 7,
     "metadata": {},
     "output_type": "execute_result"
    }
   ],
   "source": [
    "l(a=234242,b='hbvbkhb',c=87697987,d=[2,4,2,1,4,8])"
   ]
  },
  {
   "cell_type": "code",
   "execution_count": 8,
   "id": "340fe571-e909-4e75-ae2e-cbbc7b25ba4c",
   "metadata": {},
   "outputs": [
    {
     "data": {
      "text/plain": [
       "dict"
      ]
     },
     "execution_count": 8,
     "metadata": {},
     "output_type": "execute_result"
    }
   ],
   "source": [
    "type(l(a=234242,b='hbvbkhb',c=87697987,d=[2,4,2,1,4,8]))"
   ]
  },
  {
   "cell_type": "markdown",
   "id": "a66926bd-13be-4240-b5a9-232bda57b312",
   "metadata": {},
   "source": [
    "Q3. What is an iterator in python? Name the method used to initialise the iterator object and the method\n",
    "used for iteration. Use these methods to print the first five elements of the given list [2, 4, 6, 8, 10, 12, 14,\n",
    "16, 18, 20]."
   ]
  },
  {
   "cell_type": "code",
   "execution_count": 18,
   "id": "04b37679-a475-4d23-adb9-d552b0a1789e",
   "metadata": {},
   "outputs": [
    {
     "name": "stdout",
     "output_type": "stream",
     "text": [
      "2\n",
      "4\n",
      "6\n",
      "8\n",
      "10\n"
     ]
    }
   ],
   "source": [
    "#Iterator in python is an object that is used to iterate over iterable objects like lists, tuples, dicts, and sets. The iterator object is initialized using the iter () method. It uses the next () method for iteration. __iter (iterable)__ method that is called for the initialization of an iterator. This returns an iterator object\n",
    "l=[2, 4, 6, 8, 10, 12, 14,16, 18, 20]\n",
    "e=iter(l)\n",
    "print(next(e))\n",
    "print(next(e))\n",
    "print(next(e))\n",
    "print(next(e))\n",
    "print(next(e))\n"
   ]
  },
  {
   "cell_type": "markdown",
   "id": "9c3cb57a-dd26-4ba5-89fc-18f8a0b1ea5a",
   "metadata": {},
   "source": [
    "Q4. What is a generator function in python? Why yield keyword is used? Give an example of a generator\n",
    "function."
   ]
  },
  {
   "cell_type": "code",
   "execution_count": 21,
   "id": "ba9ad6f7-f401-43ff-99fb-fdcd7e5533b3",
   "metadata": {},
   "outputs": [],
   "source": [
    "\"\"\"Generator function in Python is a function that is commonly used to return a sequence of values. Generator function behaves like a normal function but rather it uses a yield statement to return a value instead of return statement. If the body of a function contains yield statement, the function automatically becomes a generator function.\"\"\"\n",
    "\"\"\"The yield statement suspends a function’s execution and sends a value back to the caller, but retains enough state to enable the function to resume where it left off. When the function resumes, it continues execution immediately after the last yield run. This allows its code to produce a series of values over time, rather than computing them at once and sending them back like a list.\n",
    "Yield can produce a sequence of values. We should use yield when we want to iterate over a sequence, but don’t want to store the entire sequence in memory. Yield is used in Python generators.\"\"\"\n",
    "def count_test(n):\n",
    "    count=1\n",
    "    while count<n:\n",
    "        yield count\n",
    "        count=count+1\n",
    "       \n",
    "        "
   ]
  },
  {
   "cell_type": "code",
   "execution_count": 22,
   "id": "ee6b617d-584a-4da7-834a-99056c9c2b59",
   "metadata": {},
   "outputs": [],
   "source": [
    "c=count_test(10)"
   ]
  },
  {
   "cell_type": "code",
   "execution_count": 23,
   "id": "b790b8c4-49db-4edd-bcf7-d36d1b50be35",
   "metadata": {},
   "outputs": [
    {
     "name": "stdout",
     "output_type": "stream",
     "text": [
      "1\n",
      "2\n",
      "3\n",
      "4\n",
      "5\n",
      "6\n",
      "7\n",
      "8\n",
      "9\n"
     ]
    }
   ],
   "source": [
    "for i in c:\n",
    "    print(i)"
   ]
  },
  {
   "cell_type": "markdown",
   "id": "f0d8b371-d00b-4cec-8594-293473257685",
   "metadata": {},
   "source": [
    "Q5. Create a generator function for prime numbers less than 1000. Use the next() method to print the first 20 prime numbers."
   ]
  },
  {
   "cell_type": "code",
   "execution_count": 1,
   "id": "63b0b3f3-c776-4598-8e55-8ab9196a05b3",
   "metadata": {},
   "outputs": [],
   "source": [
    "from math import sqrt\n",
    "\n",
    "def is_prime(n):\n",
    "    if (n <= 1):\n",
    "        return False\n",
    "    if (n == 2):\n",
    "        return True\n",
    "    if (n % 2 == 0):\n",
    "        return False\n",
    "\n",
    "    i = 3\n",
    "    while i <= sqrt(n):\n",
    "        if n % i == 0:\n",
    "            return False\n",
    "        i = i + 2\n",
    "\n",
    "    return True"
   ]
  },
  {
   "cell_type": "code",
   "execution_count": 2,
   "id": "5bc073a8-30ab-4f87-9f15-f7ef85ed7111",
   "metadata": {},
   "outputs": [],
   "source": [
    "def prime_generator():\n",
    "    n = 1\n",
    "    while True:\n",
    "        n += 1\n",
    "        if is_prime(n):\n",
    "            yield n"
   ]
  },
  {
   "cell_type": "code",
   "execution_count": 3,
   "id": "4368dcf3-0e28-4479-a5b4-55039e0be49f",
   "metadata": {},
   "outputs": [
    {
     "name": "stdout",
     "output_type": "stream",
     "text": [
      "2\n",
      "3\n",
      "5\n",
      "7\n",
      "11\n",
      "13\n",
      "17\n",
      "19\n",
      "23\n",
      "29\n",
      "31\n",
      "37\n",
      "41\n",
      "43\n",
      "47\n",
      "53\n",
      "59\n",
      "61\n",
      "67\n",
      "71\n"
     ]
    }
   ],
   "source": [
    "generator = prime_generator()\n",
    "\n",
    "for i in range(20):\n",
    "    print(next(generator))"
   ]
  },
  {
   "cell_type": "code",
   "execution_count": null,
   "id": "b732524e-01bd-4090-8e2d-55bc162a613e",
   "metadata": {},
   "outputs": [],
   "source": []
  },
  {
   "cell_type": "markdown",
   "id": "6481e4c3-184f-4f87-a1fd-2e3f732c739d",
   "metadata": {},
   "source": [
    "Q6. Write a python program to print the first 10 Fibonacci numbers using a while loop."
   ]
  },
  {
   "cell_type": "code",
   "execution_count": 1,
   "id": "f80a0b6f-bfcc-47f4-b54e-f2205765a216",
   "metadata": {},
   "outputs": [
    {
     "name": "stdout",
     "output_type": "stream",
     "text": [
      "1\n",
      "2\n",
      "3\n",
      "5\n",
      "8\n",
      "13\n",
      "21\n",
      "34\n",
      "55\n",
      "89\n"
     ]
    }
   ],
   "source": [
    "count=0\n",
    "a=0\n",
    "b=1\n",
    "while count<10:\n",
    "    \n",
    "    c=a+b\n",
    "    print(c)\n",
    "    a=b\n",
    "    b=c\n",
    "    count=count+1"
   ]
  },
  {
   "cell_type": "markdown",
   "id": "6a7d1b91-31f7-4a1b-9faa-e3e9ba45ad4c",
   "metadata": {},
   "source": [
    "Q7. Write a List Comprehension to iterate through the given string: ‘pwskills’.\n",
    "Expected output: ['p', 'w', 's', 'k', 'i', 'l', 'l', 's']"
   ]
  },
  {
   "cell_type": "code",
   "execution_count": 4,
   "id": "57aa17be-b533-4631-8e8e-d8c2bac15b51",
   "metadata": {},
   "outputs": [],
   "source": [
    "string='pwskills'\n"
   ]
  },
  {
   "cell_type": "code",
   "execution_count": 36,
   "id": "b368e0e6-cdf1-478c-b120-b34b388ee81d",
   "metadata": {},
   "outputs": [
    {
     "data": {
      "text/plain": [
       "[['p'], ['w'], ['s'], ['k'], ['i'], ['l'], ['l'], ['s']]"
      ]
     },
     "execution_count": 36,
     "metadata": {},
     "output_type": "execute_result"
    }
   ],
   "source": [
    "[i.split() for i in string]"
   ]
  },
  {
   "cell_type": "markdown",
   "id": "e806fa57-b32c-42e7-bbff-4ab4376e3dda",
   "metadata": {},
   "source": [
    "Q8. Write a python program to check whether a given number is Palindrome or not using a while loop."
   ]
  },
  {
   "cell_type": "code",
   "execution_count": 4,
   "id": "51e34355-dba6-4b2c-af7b-b8f5e48f097b",
   "metadata": {},
   "outputs": [
    {
     "name": "stdin",
     "output_type": "stream",
     "text": [
      "enter the given number 456\n"
     ]
    },
    {
     "name": "stdout",
     "output_type": "stream",
     "text": [
      "not a palindrome number\n"
     ]
    }
   ],
   "source": [
    "n=input('enter the given number')\n",
    "count=1\n",
    "while count==1:\n",
    "    if n==n[::-1]:\n",
    "        print('The given number is palindrome number')\n",
    "    else:\n",
    "        print('not a palindrome number')\n",
    "    count=count-1\n",
    "    \n"
   ]
  },
  {
   "cell_type": "code",
   "execution_count": null,
   "id": "ab6c9c00-5117-4c8e-9c5d-fccff9d56e6f",
   "metadata": {},
   "outputs": [],
   "source": []
  },
  {
   "cell_type": "markdown",
   "id": "2ecd5964-480d-415c-8316-98f2b7019666",
   "metadata": {},
   "source": [
    "Q9. Write a code to print odd numbers from 1 to 100 using list comprehension."
   ]
  },
  {
   "cell_type": "code",
   "execution_count": 25,
   "id": "58cffcdd-7493-47f0-8fc3-552786d24069",
   "metadata": {},
   "outputs": [
    {
     "data": {
      "text/plain": [
       "[1,\n",
       " 3,\n",
       " 5,\n",
       " 7,\n",
       " 9,\n",
       " 11,\n",
       " 13,\n",
       " 15,\n",
       " 17,\n",
       " 19,\n",
       " 21,\n",
       " 23,\n",
       " 25,\n",
       " 27,\n",
       " 29,\n",
       " 31,\n",
       " 33,\n",
       " 35,\n",
       " 37,\n",
       " 39,\n",
       " 41,\n",
       " 43,\n",
       " 45,\n",
       " 47,\n",
       " 49,\n",
       " 51,\n",
       " 53,\n",
       " 55,\n",
       " 57,\n",
       " 59,\n",
       " 61,\n",
       " 63,\n",
       " 65,\n",
       " 67,\n",
       " 69,\n",
       " 71,\n",
       " 73,\n",
       " 75,\n",
       " 77,\n",
       " 79,\n",
       " 81,\n",
       " 83,\n",
       " 85,\n",
       " 87,\n",
       " 89,\n",
       " 91,\n",
       " 93,\n",
       " 95,\n",
       " 97,\n",
       " 99]"
      ]
     },
     "execution_count": 25,
     "metadata": {},
     "output_type": "execute_result"
    }
   ],
   "source": [
    "[i for i in range(1,101) if i%2==1]"
   ]
  },
  {
   "cell_type": "code",
   "execution_count": 38,
   "id": "aa3ad6aa-1e23-47d2-b26a-752982717b82",
   "metadata": {},
   "outputs": [
    {
     "data": {
      "text/plain": [
       "[2,\n",
       " 4,\n",
       " 6,\n",
       " 8,\n",
       " 10,\n",
       " 12,\n",
       " 14,\n",
       " 16,\n",
       " 18,\n",
       " 20,\n",
       " 22,\n",
       " 24,\n",
       " 26,\n",
       " 28,\n",
       " 30,\n",
       " 32,\n",
       " 34,\n",
       " 36,\n",
       " 38,\n",
       " 40,\n",
       " 42,\n",
       " 44,\n",
       " 46,\n",
       " 48,\n",
       " 50,\n",
       " 52,\n",
       " 54,\n",
       " 56,\n",
       " 58,\n",
       " 60,\n",
       " 62,\n",
       " 64,\n",
       " 66,\n",
       " 68,\n",
       " 70,\n",
       " 72,\n",
       " 74,\n",
       " 76,\n",
       " 78,\n",
       " 80,\n",
       " 82,\n",
       " 84,\n",
       " 86,\n",
       " 88,\n",
       " 90,\n",
       " 92,\n",
       " 94,\n",
       " 96,\n",
       " 98,\n",
       " 100]"
      ]
     },
     "execution_count": 38,
     "metadata": {},
     "output_type": "execute_result"
    }
   ],
   "source": [
    "#filter odd number\n",
    "[j for j in range(1,101) if j%2==0]"
   ]
  },
  {
   "cell_type": "code",
   "execution_count": null,
   "id": "19031021-8bb5-4f8c-a85b-bc378c19ffd1",
   "metadata": {},
   "outputs": [],
   "source": []
  },
  {
   "cell_type": "code",
   "execution_count": null,
   "id": "cc5e5d0f-8aeb-47bf-ac1f-020d6d1df9c3",
   "metadata": {},
   "outputs": [],
   "source": []
  }
 ],
 "metadata": {
  "kernelspec": {
   "display_name": "Python 3 (ipykernel)",
   "language": "python",
   "name": "python3"
  },
  "language_info": {
   "codemirror_mode": {
    "name": "ipython",
    "version": 3
   },
   "file_extension": ".py",
   "mimetype": "text/x-python",
   "name": "python",
   "nbconvert_exporter": "python",
   "pygments_lexer": "ipython3",
   "version": "3.10.8"
  }
 },
 "nbformat": 4,
 "nbformat_minor": 5
}
