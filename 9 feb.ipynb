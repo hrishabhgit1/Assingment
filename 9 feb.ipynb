{
 "cells": [
  {
   "cell_type": "markdown",
   "id": "26c44e3b-f8bc-4b38-ab95-d5a32d0be6b4",
   "metadata": {},
   "source": [
    "Q1, Create a vehicle class with an init method having instance variables as name_of_vehicle, max_speed\n",
    "and average_of_vehicle."
   ]
  },
  {
   "cell_type": "code",
   "execution_count": 2,
   "id": "cb176550-ccac-4cc2-9320-c9f7e2488697",
   "metadata": {},
   "outputs": [],
   "source": [
    "class vehicle :\n",
    "    \n",
    "    def __init__(self,name_of_vehicle,max_speed,average_of_vehicle):\n",
    "        self.name_of_vehicle=name_of_vehicle\n",
    "        self.max_speed=max_speed\n",
    "        self.average_of_vehicle=average_of_vehicle\n",
    "        \n",
    "    def return_vehicle_details(self):\n",
    "        return self.name_of_vehicle,self.max_speed,self.average_of_vehicle"
   ]
  },
  {
   "cell_type": "code",
   "execution_count": 3,
   "id": "46464a75-f000-4756-9b6a-a89f71999346",
   "metadata": {},
   "outputs": [],
   "source": [
    "c=vehicle(\"lamborghini\",\"200kmph\",'10kmpl')"
   ]
  },
  {
   "cell_type": "code",
   "execution_count": 4,
   "id": "45efe9de-7a8d-43c2-9c9a-518ca0afa1d9",
   "metadata": {},
   "outputs": [
    {
     "data": {
      "text/plain": [
       "('lamborghini', '200kmph', '10kmpl')"
      ]
     },
     "execution_count": 4,
     "metadata": {},
     "output_type": "execute_result"
    }
   ],
   "source": [
    "c.return_vehicle_details()"
   ]
  },
  {
   "cell_type": "code",
   "execution_count": 5,
   "id": "dd3c5cae-46c3-458e-a75a-c4f75c864ca1",
   "metadata": {},
   "outputs": [
    {
     "data": {
      "text/plain": [
       "'10kmpl'"
      ]
     },
     "execution_count": 5,
     "metadata": {},
     "output_type": "execute_result"
    }
   ],
   "source": [
    "c.average_of_vehicle"
   ]
  },
  {
   "cell_type": "markdown",
   "id": "1b8cdf79-c50e-4074-a6e7-ef90cf7bb4ed",
   "metadata": {},
   "source": [
    "Q2. Create a child class car from the vehicle class created in Que 1, which will inherit the vehicle class.\n",
    "Create a method named seating_capacity which takes capacity as an argument and returns the name of\n",
    "the vehicle and its seating capacity."
   ]
  },
  {
   "cell_type": "code",
   "execution_count": 6,
   "id": "24c73c59-db09-4e1a-adff-c83b790ab040",
   "metadata": {},
   "outputs": [],
   "source": [
    "class car(vehicle):\n",
    "    \n",
    "    \n",
    "    def seating_capacity(self,capacity):\n",
    "        self.capacity=capacity\n",
    "        return self.name_of_vehicle,self.capacity"
   ]
  },
  {
   "cell_type": "code",
   "execution_count": 8,
   "id": "fd564e01-2da3-41b3-b204-361b5b6f1967",
   "metadata": {},
   "outputs": [],
   "source": [
    "c=car('lamborghini','200kmph','10kmpl')"
   ]
  },
  {
   "cell_type": "code",
   "execution_count": 9,
   "id": "698c8276-11b8-434d-920d-4438bb8486f6",
   "metadata": {},
   "outputs": [
    {
     "data": {
      "text/plain": [
       "('lamborghini', 5)"
      ]
     },
     "execution_count": 9,
     "metadata": {},
     "output_type": "execute_result"
    }
   ],
   "source": [
    "c.seating_capacity(5)"
   ]
  },
  {
   "cell_type": "markdown",
   "id": "f848db95-3f26-41e0-91e3-0059da071755",
   "metadata": {},
   "source": [
    "Q3. What is multiple inheritance? Write a python code to demonstrate multiple inheritance."
   ]
  },
  {
   "cell_type": "code",
   "execution_count": 19,
   "id": "d994d5e6-5039-4617-8372-24e707cd0bc1",
   "metadata": {},
   "outputs": [],
   "source": [
    "\"\"\"One of the core concepts in object-oriented programming (OOP) languages is inheritance. It is a mechanism that allows you to create a hierarchy of classes that share a set of properties and methods by deriving a class from another class. Inheritance is the capability of one class to derive or inherit the properties from another class. \"\"\"\n",
    "#When a child class inherits from multiple parent classes, it is called multiple inheritances. \n",
    "class class1:\n",
    "    def x(self):\n",
    "        return 'I'\n",
    "\n",
    "class class2:\n",
    "    def y(self):\n",
    "        return 'am'\n",
    "class class3:\n",
    "    def z(self):\n",
    "        return 'genius'\n",
    "class classxyz(class1,class2,class3):\n",
    "    pass\n",
    "    "
   ]
  },
  {
   "cell_type": "code",
   "execution_count": 20,
   "id": "25b28b87-dab5-44b1-aa2f-e426ba396329",
   "metadata": {},
   "outputs": [],
   "source": [
    "xyz=classxyz()"
   ]
  },
  {
   "cell_type": "code",
   "execution_count": 21,
   "id": "91a1aba4-b641-416e-8b01-105280abe19b",
   "metadata": {},
   "outputs": [
    {
     "data": {
      "text/plain": [
       "'I'"
      ]
     },
     "execution_count": 21,
     "metadata": {},
     "output_type": "execute_result"
    }
   ],
   "source": [
    "xyz.x()"
   ]
  },
  {
   "cell_type": "code",
   "execution_count": 23,
   "id": "aeccf91d-6de9-4744-9223-bfd76b8f22cc",
   "metadata": {},
   "outputs": [
    {
     "data": {
      "text/plain": [
       "'am'"
      ]
     },
     "execution_count": 23,
     "metadata": {},
     "output_type": "execute_result"
    }
   ],
   "source": [
    "xyz.y()"
   ]
  },
  {
   "cell_type": "code",
   "execution_count": 24,
   "id": "cfc9fffd-1cab-4a65-adb8-c8b36c21602a",
   "metadata": {},
   "outputs": [
    {
     "data": {
      "text/plain": [
       "'genius'"
      ]
     },
     "execution_count": 24,
     "metadata": {},
     "output_type": "execute_result"
    }
   ],
   "source": [
    "xyz.z()"
   ]
  },
  {
   "cell_type": "markdown",
   "id": "72466d86-6625-480b-935f-699442484fcb",
   "metadata": {},
   "source": [
    "Q4. What are getter and setter in python? Create a class and create a getter and a setter method in this\n",
    "class."
   ]
  },
  {
   "cell_type": "code",
   "execution_count": null,
   "id": "0b01d3dc-25c2-4809-8b66-65fc6125cb4a",
   "metadata": {},
   "outputs": [],
   "source": [
    "\"\"\"Typically, getter methods return the target attribute’s value while setter methods take a new value and assign it to the underlying attribute.\n",
    "Note that Python doesn’t have the notion of access modifiers, such as private, protected, and public, to restrict access to attributes and methods in a class.\n",
    "\n",
    "In Python, the distinction is between public and non-public class members. If you want to signal that an attribute or method is non-public, then you should use the well-established Python convention of prefixing the name with an underscore (_). But note that this is just a convention.\n",
    "here,getter and setter helps in accessing and changing the restricted area of program ,and make the particular program unaccessible creatting a wall\"\"\"\n",
    "\n",
    "\n",
    "\n",
    "class vehicle :\n",
    "    \n",
    "    def __init__(self,name_of_vehicle,max_speed,average_of_vehicle):\n",
    "        self.__name_of_vehicle=name_of_vehicle\n",
    "        self.max_speed=max_speed\n",
    "        self.average_of_vehicle=average_of_vehicle\n",
    "        \n",
    "        name_of_vehicle= self.__name_of_vehicle\n",
    "    \n",
    "    \n",
    "    def set_vehicle_name(self,rename_vehicle):\n",
    "        self.__name_of_vehicle=rename_vehicle if rename_vehicle!=self.__name_of_vehicle else self.__name_of_vehicle\n",
    "        \n",
    "    def return_vehicle_details(self):\n",
    "        return self.name_of_vehicle,self.max_speed,self.average_of_vehicle\n",
    "    \n",
    "    def get_vehicle_name(self):\n",
    "        return self.__name_of_vehicle\n",
    "    \n",
    "    \n",
    "        "
   ]
  },
  {
   "cell_type": "code",
   "execution_count": 3,
   "id": "44c81970-0130-492f-8c18-c74328e5494a",
   "metadata": {},
   "outputs": [],
   "source": [
    "c=vehicle(\"lamborghini\",\"200kmph\",'10kmpl')"
   ]
  },
  {
   "cell_type": "code",
   "execution_count": 4,
   "id": "25a166cf-7ba4-4225-a5d6-5811cf44725c",
   "metadata": {},
   "outputs": [
    {
     "data": {
      "text/plain": [
       "'lamborghini'"
      ]
     },
     "execution_count": 4,
     "metadata": {},
     "output_type": "execute_result"
    }
   ],
   "source": [
    "c.get_vehicle_name()"
   ]
  },
  {
   "cell_type": "code",
   "execution_count": 5,
   "id": "d1b8f8dc-a427-4499-a881-ef0280dab858",
   "metadata": {},
   "outputs": [],
   "source": [
    "c.set_vehicle_name('suv')"
   ]
  },
  {
   "cell_type": "code",
   "execution_count": 6,
   "id": "1f3b6208-a11f-41ca-8864-92467aad588f",
   "metadata": {},
   "outputs": [
    {
     "data": {
      "text/plain": [
       "'suv'"
      ]
     },
     "execution_count": 6,
     "metadata": {},
     "output_type": "execute_result"
    }
   ],
   "source": [
    "c.get_vehicle_name()"
   ]
  },
  {
   "cell_type": "markdown",
   "id": "6fd09cf9-1a7f-4f0a-8999-415d5dec8f85",
   "metadata": {},
   "source": [
    "Q5.What is method overriding in python? Write a python code to demonstrate method overriding."
   ]
  },
  {
   "cell_type": "code",
   "execution_count": 1,
   "id": "beacc4c2-b82a-40c8-b2ad-bbfae47157cd",
   "metadata": {},
   "outputs": [
    {
     "name": "stdout",
     "output_type": "stream",
     "text": [
      "method is called from Employee class\n",
      "method is called from Programmer class\n"
     ]
    },
    {
     "data": {
      "text/plain": [
       "'After that we have created an object of the Programmer class named programmer1 and called the details() method . As program has got details() method in the Programmer class itself so details() method from Programmer class has been called and printed method is called from Programmer class in the output .'"
      ]
     },
     "execution_count": 1,
     "metadata": {},
     "output_type": "execute_result"
    }
   ],
   "source": [
    "\"\"\"Suppose a method is defined in a base class and when we define same named method in the derived class derived from that base class, then it is called Method Overriding.\n",
    "\n",
    "If the method is called by creating an object of the base class then the method of the base class will run and if the method is called by creating an object of the derived class then the method of the derived class will run .\n",
    "\n",
    "If there are many derived classes and each derived class has a method with the same name, then we can clearly understand with the help of Method resolution order that if we create an object of any class and call the method, the method of which class will run.\"\"\"\n",
    "#Example 1: Override any object method in Python\n",
    "# defining base class Employee\n",
    "class Employee:\n",
    "    def details(self):\n",
    "        print(\"method is called from Employee class\")\n",
    "        \n",
    "# Defining derived class Programmer\n",
    "class Programmer(Employee):            \n",
    "    def details(self):\n",
    "        print(\"method is called from Programmer class\")\n",
    "\n",
    "\"\"\"In the above code we have defined a base class Employee and a derived class of the Employee class Programmer . Both base class and derived class has same named object method that is details() . So in Programmer class details() method is overridden .\"\"\"\n",
    "\n",
    "\n",
    "# creating an object of Employee\n",
    "employee1=Employee()\n",
    "\n",
    "# calling details method\n",
    "employee1.details()\n",
    "\n",
    "#return - method is called from Employee class\n",
    "\"\"\"Then we have created an object of the Employee class named employee1 and called the details() method . As expected details() method from Employee class has been called and printed method is called from Employee class in the output .\"\"\"\n",
    "\n",
    "# creating an object of Programmer\n",
    "programmer1=Programmer()\n",
    "\n",
    "# calling details method\n",
    "programmer1.details()\n",
    "\n",
    "#return-method is called from Programmer class\n",
    "\"\"\"After that we have created an object of the Programmer class named programmer1 and called the details() method . As program has got details() method in the Programmer class itself so details() method from Programmer class has been called and printed method is called from Programmer class in the output .\"\"\""
   ]
  },
  {
   "cell_type": "code",
   "execution_count": null,
   "id": "55204a54-dea7-4c67-bc67-8fe168b1355e",
   "metadata": {},
   "outputs": [],
   "source": []
  }
 ],
 "metadata": {
  "kernelspec": {
   "display_name": "Python 3 (ipykernel)",
   "language": "python",
   "name": "python3"
  },
  "language_info": {
   "codemirror_mode": {
    "name": "ipython",
    "version": 3
   },
   "file_extension": ".py",
   "mimetype": "text/x-python",
   "name": "python",
   "nbconvert_exporter": "python",
   "pygments_lexer": "ipython3",
   "version": "3.10.8"
  }
 },
 "nbformat": 4,
 "nbformat_minor": 5
}
