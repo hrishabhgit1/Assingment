{
 "cells": [
  {
   "cell_type": "markdown",
   "id": "6184df06-afec-4bf1-90cd-d7e554ab770b",
   "metadata": {},
   "source": [
    "1)What is an Exception in python? Write the difference between Exceptions and syntax errors"
   ]
  },
  {
   "cell_type": "markdown",
   "id": "94d5f576-9f85-41ff-8f73-52bb88a0fcd2",
   "metadata": {},
   "source": [
    "Ans-Error in Python can be of two types i.e. Syntax errors and Exceptions. Errors are problems in a program due to which the program will stop the execution. On the other hand, exceptions are raised when some internal events occur which change the normal flow of the program. "
   ]
  },
  {
   "cell_type": "markdown",
   "id": "e99a62e4-0cfc-4325-89fb-9acdf5592159",
   "metadata": {},
   "source": [
    "In Python, there are several built-in exceptions that can be raised when an error occurs during the execution of a program.such as,"
   ]
  },
  {
   "cell_type": "raw",
   "id": "03d7c7ec-74d4-44fe-8e8e-37ab4801d2f7",
   "metadata": {},
   "source": [
    "SyntaxError: This exception is raised when the interpreter encounters a syntax error in the code, such as a misspelled keyword, a missing colon, or an unbalanced parenthesis.\n",
    "TypeError: This exception is raised when an operation or function is applied to an object of the wrong type, such as adding a string to an integer.\n",
    "NameError: This exception is raised when a variable or function name is not found in the current scope.\n",
    "IndexError: This exception is raised when an index is out of range for a list, tuple, or other sequence types.\n",
    "KeyError: This exception is raised when a key is not found in a dictionary.\n",
    "ValueError: This exception is raised when a function or method is called with an invalid argument or input, such as trying to convert a string to an integer when the string does not represent a valid integer.\n",
    "AttributeError: This exception is raised when an attribute or method is not found on an object, such as trying to access a non-existent attribute of a class instance.\n",
    "IOError: This exception is raised when an I/O operation, such as reading or writing a file, fails due to an input/output error.\n",
    "ZeroDivisionError: This exception is raised when an attempt is made to divide a number by zero.\n",
    "ImportError: This exception is raised when an import statement fails to find or load a module."
   ]
  },
  {
   "cell_type": "code",
   "execution_count": 2,
   "id": "50872600-008e-466a-a438-e56442548fed",
   "metadata": {},
   "outputs": [
    {
     "ename": "SyntaxError",
     "evalue": "expected ':' (3864936824.py, line 11)",
     "output_type": "error",
     "traceback": [
      "\u001b[0;36m  Cell \u001b[0;32mIn[2], line 11\u001b[0;36m\u001b[0m\n\u001b[0;31m    if(amount > 2999)\u001b[0m\n\u001b[0m                     ^\u001b[0m\n\u001b[0;31mSyntaxError\u001b[0m\u001b[0;31m:\u001b[0m expected ':'\n"
     ]
    }
   ],
   "source": [
    "#Difference between Syntax Error and Exceptions\n",
    "#1)Syntax Error: As the name suggests this error is caused by the wrong syntax in the code. It leads to the termination of the program. \n",
    "\n",
    "#Example: \n",
    "\n",
    "# initialize the amount variable\n",
    "amount = 10000\n",
    " \n",
    "# check that You are eligible to\n",
    "#  purchase Dsa Self Paced or not\n",
    "if(amount > 2999)\n",
    "print(\"You are eligible to purchase Dsa Self Paced\")"
   ]
  },
  {
   "cell_type": "code",
   "execution_count": 5,
   "id": "0c31c6fc-0e08-4ae1-807a-51a9e6b2bd76",
   "metadata": {},
   "outputs": [
    {
     "ename": "ZeroDivisionError",
     "evalue": "division by zero",
     "output_type": "error",
     "traceback": [
      "\u001b[0;31m---------------------------------------------------------------------------\u001b[0m",
      "\u001b[0;31mZeroDivisionError\u001b[0m                         Traceback (most recent call last)",
      "Cell \u001b[0;32mIn[5], line 9\u001b[0m\n\u001b[1;32m      6\u001b[0m marks \u001b[38;5;241m=\u001b[39m \u001b[38;5;241m10000\u001b[39m\n\u001b[1;32m      8\u001b[0m \u001b[38;5;66;03m# perform division with 0\u001b[39;00m\n\u001b[0;32m----> 9\u001b[0m a \u001b[38;5;241m=\u001b[39m \u001b[43mmarks\u001b[49m\u001b[43m \u001b[49m\u001b[38;5;241;43m/\u001b[39;49m\u001b[43m \u001b[49m\u001b[38;5;241;43m0\u001b[39;49m\n\u001b[1;32m     10\u001b[0m \u001b[38;5;28mprint\u001b[39m(a)\n\u001b[1;32m     11\u001b[0m \u001b[38;5;66;03m#In the above example raised the ZeroDivisionError as we are trying to divide a number by 0.\u001b[39;00m\n",
      "\u001b[0;31mZeroDivisionError\u001b[0m: division by zero"
     ]
    }
   ],
   "source": [
    "#2)Exceptions: Exceptions are raised when the program is syntactically correct, but the code results in an error. This error does not stop the execution of the program, however, it changes the normal flow of the program.\n",
    "\n",
    "#Example:\n",
    "\n",
    "# initialize the amount variable\n",
    "marks = 10000\n",
    " \n",
    "# perform division with 0\n",
    "a = marks / 0\n",
    "print(a)\n",
    "#In the above example raised the ZeroDivisionError as we are trying to divide a number by 0."
   ]
  },
  {
   "cell_type": "markdown",
   "id": "6c2a82e9-0d92-42fd-bd23-c1d7a5313854",
   "metadata": {},
   "source": [
    "2)what happens when an exception is not handled? Explain with an example in python"
   ]
  },
  {
   "cell_type": "code",
   "execution_count": 6,
   "id": "bb752b86-81e8-461e-8b25-61f7830c5685",
   "metadata": {},
   "outputs": [
    {
     "ename": "ZeroDivisionError",
     "evalue": "division by zero",
     "output_type": "error",
     "traceback": [
      "\u001b[0;31m---------------------------------------------------------------------------\u001b[0m",
      "\u001b[0;31mZeroDivisionError\u001b[0m                         Traceback (most recent call last)",
      "Cell \u001b[0;32mIn[6], line 3\u001b[0m\n\u001b[1;32m      1\u001b[0m \u001b[38;5;124;03m\"\"\"Python has many built-in exceptions which forces your program to output an error when something in it goes wrong. When these exceptions occur, it causes the current process to stop and passes it to the calling process until it is handled. If not handled, our program will crash.\"\"\"\u001b[39;00m\n\u001b[1;32m      2\u001b[0m a\u001b[38;5;241m=\u001b[39m\u001b[38;5;241m5000\u001b[39m\n\u001b[0;32m----> 3\u001b[0m b\u001b[38;5;241m=\u001b[39m\u001b[43ma\u001b[49m\u001b[38;5;241;43m/\u001b[39;49m\u001b[38;5;241;43m0\u001b[39;49m\n\u001b[1;32m      4\u001b[0m \u001b[38;5;28mprint\u001b[39m(b)\n",
      "\u001b[0;31mZeroDivisionError\u001b[0m: division by zero"
     ]
    }
   ],
   "source": [
    "\"\"\"Python has many built-in exceptions which forces your program to output an error when something in it goes wrong. When these exceptions occur, it causes the current process to stop and passes it to the calling process until it is handled. If not handled, our program will crash.\"\"\"\n",
    "a=5000\n",
    "b=a/0\n",
    "print(b)"
   ]
  },
  {
   "cell_type": "code",
   "execution_count": 7,
   "id": "6615ff68-c0aa-46f1-9cf4-99ab90de508f",
   "metadata": {},
   "outputs": [
    {
     "name": "stdout",
     "output_type": "stream",
     "text": [
      "program is not upto the requirement\n"
     ]
    }
   ],
   "source": [
    "#In the above case if exception would have been handled properly it was not had crashed ,in the above program if exceptions were used it would have given output even if the program fails to run.secondly in large programs it helps in identifying where the mistakes done.for example,\n",
    "try:\n",
    "    a=5000\n",
    "    b=a/0\n",
    "    print(a)\n",
    "except:\n",
    "    print('program is not upto the requirement')\n"
   ]
  },
  {
   "cell_type": "code",
   "execution_count": null,
   "id": "2bdb9c18-964f-45aa-8bba-81350c7ad601",
   "metadata": {},
   "outputs": [],
   "source": []
  },
  {
   "cell_type": "code",
   "execution_count": 8,
   "id": "961f6ad7-77f0-4e18-b1a0-bfc8995513b3",
   "metadata": {},
   "outputs": [
    {
     "name": "stdout",
     "output_type": "stream",
     "text": [
      "f = o\n",
      "g = u\n",
      "no such index\n"
     ]
    }
   ],
   "source": [
    "#Try and except statements are used to catch and handle exceptions in Python. Statements that can raise exceptions are kept inside the try clause and the statements that handle the exception are written inside except clause.\n",
    "a='douglas'\n",
    "try:\n",
    "    print('f','=',a[1])\n",
    "    print('g','=',a[2])\n",
    "    print('h','=',a[10])\n",
    "except:\n",
    "    print('no such index')\n",
    "    "
   ]
  },
  {
   "cell_type": "code",
   "execution_count": 9,
   "id": "04f1e8e3-cfb1-4224-9fe2-d7fed022a0ee",
   "metadata": {},
   "outputs": [],
   "source": [
    "#here as the a[10] not executed ,it given the statement from except block ,by changing the normal flow of program it give output without any error"
   ]
  },
  {
   "cell_type": "code",
   "execution_count": 10,
   "id": "867d01ba-f05f-498f-b35c-35d4ffa36eec",
   "metadata": {},
   "outputs": [],
   "source": [
    "#4)Explain with an example"
   ]
  },
  {
   "cell_type": "code",
   "execution_count": 13,
   "id": "ee3d6509-f0bf-436d-a003-fcd62bb32279",
   "metadata": {},
   "outputs": [
    {
     "name": "stdin",
     "output_type": "stream",
     "text": [
      "enter the input 56758687\n"
     ]
    },
    {
     "name": "stdout",
     "output_type": "stream",
     "text": [
      "it is greater than 100\n",
      "however ,the number is of no use\n"
     ]
    }
   ],
   "source": [
    "#a)try and else-else keyword is used to define a block of code to be executed if no errors were raised:\n",
    "a=int(input('enter the input'))\n",
    "try:\n",
    "    if a>100:\n",
    "        print('it is greater than 100')\n",
    "    elif a>200 :\n",
    "        print('it is a big number')\n",
    "except:\n",
    "    print('error occured')\n",
    "else:\n",
    "    print ('however ,the number is of no use')"
   ]
  },
  {
   "cell_type": "markdown",
   "id": "b3e0947c-c46e-4dae-8e60-e8af0c2cf8e6",
   "metadata": {},
   "source": [
    "#### "
   ]
  },
  {
   "cell_type": "code",
   "execution_count": 14,
   "id": "146c6a74-4942-4e35-a573-4ddf68a261e8",
   "metadata": {},
   "outputs": [
    {
     "name": "stdin",
     "output_type": "stream",
     "text": [
      "enter the input 55467596\n"
     ]
    },
    {
     "name": "stdout",
     "output_type": "stream",
     "text": [
      "it is greater than 100\n",
      "finally we got required output\n"
     ]
    }
   ],
   "source": [
    "#b)finally=The finally block, if specified, will be executed regardless if the try block raises an error or not.\n",
    "\n",
    "\n",
    "a=int(input('enter the input'))\n",
    "try:\n",
    "    if a>100:\n",
    "        print('it is greater than 100')\n",
    "    elif a>200 :\n",
    "        print('it is a big number')\n",
    "except:\n",
    "    print('error occured')\n",
    "finally:\n",
    "    print ('finally we got required output')"
   ]
  },
  {
   "cell_type": "code",
   "execution_count": 12,
   "id": "27eade2c-e7f7-4343-840e-5b2a63cf15d6",
   "metadata": {},
   "outputs": [
    {
     "ename": "TypeError",
     "evalue": "Only integers are allowed",
     "output_type": "error",
     "traceback": [
      "\u001b[0;31m---------------------------------------------------------------------------\u001b[0m",
      "\u001b[0;31mTypeError\u001b[0m                                 Traceback (most recent call last)",
      "Cell \u001b[0;32mIn[12], line 7\u001b[0m\n\u001b[1;32m      4\u001b[0m x \u001b[38;5;241m=\u001b[39m \u001b[38;5;124m\"\u001b[39m\u001b[38;5;124mhello\u001b[39m\u001b[38;5;124m\"\u001b[39m\n\u001b[1;32m      6\u001b[0m \u001b[38;5;28;01mif\u001b[39;00m \u001b[38;5;129;01mnot\u001b[39;00m \u001b[38;5;28mtype\u001b[39m(x) \u001b[38;5;129;01mis\u001b[39;00m \u001b[38;5;28mint\u001b[39m:\n\u001b[0;32m----> 7\u001b[0m     \u001b[38;5;28;01mraise\u001b[39;00m \u001b[38;5;167;01mTypeError\u001b[39;00m(\u001b[38;5;124m\"\u001b[39m\u001b[38;5;124mOnly integers are allowed\u001b[39m\u001b[38;5;124m\"\u001b[39m)\n",
      "\u001b[0;31mTypeError\u001b[0m: Only integers are allowed"
     ]
    }
   ],
   "source": [
    "#raise-The raise keyword is used to raise an exception.You can define what kind of error to raise, and the text to print to the user.\n",
    "#Raise a TypeError if x is not an integer:\n",
    "\n",
    "x = \"hello\"\n",
    "if not type(x) is int:\n",
    "    raise TypeError(\"Only integers are allowed\")\n"
   ]
  },
  {
   "cell_type": "markdown",
   "id": "16c1f6fe-26a0-4154-866a-6d8a55565708",
   "metadata": {},
   "source": [
    "Q5. What are Custom Exceptions in python? Why do we need Custom Exceptions? Explain with an example"
   ]
  },
  {
   "cell_type": "code",
   "execution_count": 15,
   "id": "7387d1e9-5388-4605-93ec-abb9493828a0",
   "metadata": {},
   "outputs": [
    {
     "name": "stdout",
     "output_type": "stream",
     "text": [
      "This is a custom exception\n"
     ]
    }
   ],
   "source": [
    "\"\"\"A custom exception is an exception that is defined by the user. It is used when the built-in exceptions are not sufficient to handle a particular scenario in a program. Custom exceptions are created by subclassing the built-in Exception class or any of its subclasses. By creating a custom exception, you can define your own error message and customize the exception handling.\n",
    "Like standard exception classes, custom exceptions are also classes. Hence, you can add functionality to the custom exception classes like:\n",
    "\n",
    "Adding attributes and properties.\n",
    "Adding methods e.g., log the exception, format the output, etc.\n",
    "Overriding the __str__ and __repr__ methods\n",
    "And doing anything else that you can do with regular classes.\n",
    "In practice, you’ll want to keep the custom exceptions organized by creating a custom exception hierarchy. The custom exception hierarchy allows you to catch exceptions at multiple levels, like the standard exception classes.\"\"\"\n",
    "\n",
    "#Need-Custom exceptions are useful in situations where you want to handle specific errors in a program. For example, suppose you are writing a program that reads data from a file. If the file does not exist, Python will raise a FileNotFoundError exception. However, you may want to handle this exception differently than the way it is handled by default. In such cases, you can create a custom exception that is specific to your program and handle it accordingly.\n",
    "#Example 1: Custom Exception with a Custom Message\n",
    "class CustomException(Exception):\n",
    "    def __init__(self, message):\n",
    "        self.message = message\n",
    "\n",
    "try:\n",
    "    raise CustomException(\"This is a custom exception\")\n",
    "except CustomException as e:\n",
    "    print(e.message)\n",
    "\n",
    "#In the above example, we have created a custom exception called CustomException with a custom message. We have also defined an __init__ method to set the message attribute. In the try block, we have raised the CustomException with a custom message. In the except block, we have caught the CustomException and printed the custom message."
   ]
  },
  {
   "cell_type": "markdown",
   "id": "cd115fe4-69e2-4484-abda-c871b0b4e9c5",
   "metadata": {},
   "source": [
    "Q6. Create custom exception class. Use this class to handle an exception."
   ]
  },
  {
   "cell_type": "code",
   "execution_count": 18,
   "id": "ad4d0d9d-e473-45f6-b2a7-2309960caabe",
   "metadata": {},
   "outputs": [
    {
     "name": "stdout",
     "output_type": "stream",
     "text": [
      "This is a custom exception 10 20\n"
     ]
    }
   ],
   "source": [
    "class CustomException(Exception):\n",
    "    def __init__(self, message, param1, param2):\n",
    "        self.message = message\n",
    "        self.param1 = param1\n",
    "        self.param2 = param2\n",
    "\n",
    "try:\n",
    "    raise CustomException(\"This is a custom exception\", 10, 20)\n",
    "except CustomException as e:\n",
    "    print(e.message, e.param1, e.param2)"
   ]
  },
  {
   "cell_type": "code",
   "execution_count": null,
   "id": "64fe3a6f-4c17-4063-84b1-ab3b4e9177b3",
   "metadata": {},
   "outputs": [],
   "source": []
  }
 ],
 "metadata": {
  "kernelspec": {
   "display_name": "Python 3 (ipykernel)",
   "language": "python",
   "name": "python3"
  },
  "language_info": {
   "codemirror_mode": {
    "name": "ipython",
    "version": 3
   },
   "file_extension": ".py",
   "mimetype": "text/x-python",
   "name": "python",
   "nbconvert_exporter": "python",
   "pygments_lexer": "ipython3",
   "version": "3.10.8"
  }
 },
 "nbformat": 4,
 "nbformat_minor": 5
}
