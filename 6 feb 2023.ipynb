{
 "cells": [
  {
   "cell_type": "markdown",
   "id": "bcf1b05c-2809-4af9-9609-7a84caedc652",
   "metadata": {},
   "source": [
    "Q1. Create a function which will take a list as an argument and return the product of all the numbers\n",
    "after creating a flat list.\n",
    "Use the below-given list as an argument for your function.\n",
    "list1 = [1,2,3,4, [44,55,66, True], False, (34,56,78,89,34), {1,2,3,3,2,1}, {1:34, \"key2\": [55, 67, 78, 89], 4: (45,\n",
    "22, 61, 34)}, [56, 'data science'], 'Machine Learning']\n",
    "Note: you must extract numeric keys and values of the dictionary also."
   ]
  },
  {
   "cell_type": "code",
   "execution_count": 1,
   "id": "a5fd60ff-6e7e-4bb0-833c-2a30ac0d8645",
   "metadata": {},
   "outputs": [],
   "source": [
    "def final_product(LIST):\n",
    "    l1=[]\n",
    "    def flatten(LIST):\n",
    "        for i in LIST:\n",
    "            if type(i)==list or type(i)==dict or type(i)==set or type(i)==tuple:\n",
    "                flatten(i)\n",
    "            elif type(i)==int or type(i)==float:\n",
    "                l1.append(i)\n",
    "    flatten(LIST)\n",
    "    \n",
    "    product=1\n",
    "    for j in l1:\n",
    "        product*=j\n",
    "    return product\n",
    "    \n",
    "            \n",
    "        \n",
    "                "
   ]
  },
  {
   "cell_type": "code",
   "execution_count": 2,
   "id": "bd9f448b-2f94-4bf6-a093-3987031abe00",
   "metadata": {},
   "outputs": [],
   "source": [
    "list1 = [1,2,3,4, [44,55,66, True], False, (34,56,78,89,34), {1,2,3,3,2,1}, {1:34, \"key2\": [55, 67, 78, 89], 4: (45, 22, 61, 34)}, [56, 'data science'], 'Machine Learning']"
   ]
  },
  {
   "cell_type": "code",
   "execution_count": 3,
   "id": "dd91eca8-6cf5-4969-9fd0-2f54190fc950",
   "metadata": {},
   "outputs": [
    {
     "data": {
      "text/plain": [
       "2315262738624675840"
      ]
     },
     "execution_count": 3,
     "metadata": {},
     "output_type": "execute_result"
    }
   ],
   "source": [
    "final_product(list1)"
   ]
  },
  {
   "cell_type": "markdown",
   "id": "8c6901a5-5023-44f5-a81d-ed8695bbbcdb",
   "metadata": {},
   "source": [
    "Q2. Write a python program for encrypting a message sent to you by your friend. The logic of encryption\n",
    "should be such that, for a the output should be z. For b, the output should be y. For c, the output should\n",
    "be x respectively. Also, the whitespace should be replaced with a dollar sign. Keep the punctuation\n",
    "marks unchanged.\n",
    "Input Sentence: I want to become a Data Scientist.\n",
    "Encrypt the above input sentence using the program you just created.\n",
    "Note: Convert the given input sentence into lowercase before encrypting. The final output should be\n",
    "lowercase."
   ]
  },
  {
   "cell_type": "code",
   "execution_count": 4,
   "id": "85f57a23-43ec-491d-ab51-dc3aeec34272",
   "metadata": {},
   "outputs": [
    {
     "name": "stdin",
     "output_type": "stream",
     "text": [
      " I want to become a Data Scientist.\n"
     ]
    },
    {
     "name": "stdout",
     "output_type": "stream",
     "text": [
      "Encrypted message: I$wznt$to$yexome$z$Dztz$Sxientist.\n"
     ]
    }
   ],
   "source": [
    "def encrypt(message):\n",
    "    # Map each letter to its encrypted form\n",
    "    mapping = {'a': 'z', 'b': 'y', 'c': 'x', ' ': '$'}\n",
    "\n",
    "    encrypted_message = \"\"\n",
    "    for char in message:\n",
    "        if char in mapping:\n",
    "            encrypted_message += mapping[char]\n",
    "        else:\n",
    "            encrypted_message += char\n",
    "\n",
    "    return encrypted_message\n",
    "\n",
    "# Test the encryption\n",
    "message = input()\n",
    "encrypted_message = encrypt(message)\n",
    "print(\"Encrypted message:\", encrypted_message)"
   ]
  },
  {
   "cell_type": "code",
   "execution_count": null,
   "id": "39dc9ad7-b9df-4cbc-b61c-39070e5b3c13",
   "metadata": {},
   "outputs": [],
   "source": []
  }
 ],
 "metadata": {
  "kernelspec": {
   "display_name": "Python 3 (ipykernel)",
   "language": "python",
   "name": "python3"
  },
  "language_info": {
   "codemirror_mode": {
    "name": "ipython",
    "version": 3
   },
   "file_extension": ".py",
   "mimetype": "text/x-python",
   "name": "python",
   "nbconvert_exporter": "python",
   "pygments_lexer": "ipython3",
   "version": "3.10.8"
  }
 },
 "nbformat": 4,
 "nbformat_minor": 5
}
