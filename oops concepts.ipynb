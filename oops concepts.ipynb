{
 "cells": [
  {
   "cell_type": "markdown",
   "id": "c4654d3c-e525-41bd-86ce-72e7dac8f3ab",
   "metadata": {},
   "source": [
    "Q1. Which function is used to open a file? What are the different modes of opening a file? Explain each mode\n",
    "of file opening."
   ]
  },
  {
   "cell_type": "markdown",
   "id": "0c59c3bb-04cb-4c48-9f67-d899c8d4d28d",
   "metadata": {},
   "source": [
    "The key function for working with files in Python is the open() function.\n",
    "\n",
    "The open() function takes two parameters; filename, and mode.\n",
    "\n",
    "There are four different methods (modes) for opening a file:\n",
    "\n",
    "\"r\" - Read - Default value. Opens a file for reading, error if the file does not exist\n",
    "\n",
    "\"a\" - Append - Opens a file for appending, creates the file if it does not exist\n",
    "\n",
    "\"w\" - Write - Opens a file for writing, creates the file if it does not exist\n",
    "\n",
    "\"x\" - Create - Creates the specified file, returns an error if the file exists"
   ]
  },
  {
   "cell_type": "markdown",
   "id": "94373795-3add-4af2-854a-59db71a31245",
   "metadata": {},
   "source": [
    "Q2. Why close() function is used? Why is it important to close a file?"
   ]
  },
  {
   "cell_type": "markdown",
   "id": "8746796a-dff5-4d31-9e51-d728d04ed3dd",
   "metadata": {},
   "source": [
    "The close () method of a file object flushes any unwritten information and closes the file object, after which no more writing can be done. Python automatically closes a file when the reference object of a file is reassigned to another file. It is a good practice to use the close () method to close a file.\n",
    "#files are limited resources managed by the operating system, making sure files are closed after use will protect against hard-to-debug issues like running out of file handles or experiencing corrupted data. The best defense is always to open files with a context manager."
   ]
  },
  {
   "cell_type": "markdown",
   "id": "9f1eb9cf-f76a-4feb-b259-7a824d59c418",
   "metadata": {},
   "source": [
    "Q3. Write a python program to create a text file. Write ‘I want to become a Data Scientist’ in that file. Then\n",
    "close the file. Open this file and read the content of the file."
   ]
  },
  {
   "cell_type": "code",
   "execution_count": 2,
   "id": "dcd030e5-263d-409a-a956-d2fb2ac5b322",
   "metadata": {},
   "outputs": [
    {
     "data": {
      "text/plain": [
       "'I want to become a Data Scientist'"
      ]
     },
     "execution_count": 2,
     "metadata": {},
     "output_type": "execute_result"
    }
   ],
   "source": [
    "d=open('test2.txt','w')\n",
    "d.write('I want to become a Data Scientist')\n",
    "d.close()\n",
    "with open(\"test2.txt\") as f:\n",
    "    content = f.read()\n",
    "\n",
    "content"
   ]
  },
  {
   "cell_type": "markdown",
   "id": "9bf4b37c-18bd-4d3f-8835-b3d316e17d75",
   "metadata": {},
   "source": [
    "Q4. Explain the following with python code: read(), readline() and readlines()."
   ]
  },
  {
   "cell_type": "markdown",
   "id": "463a39c1-4f0b-4d81-b124-2715aab2255a",
   "metadata": {},
   "source": [
    "The three main functions  used to read content from a file are read(), readline() and readlines().\n",
    "\n",
    "read() reads the entire file and returns a string,\n",
    "readline() reads just one line from a file, \n",
    "readlines() returns a list of strings representing the lines of the file."
   ]
  },
  {
   "cell_type": "code",
   "execution_count": 4,
   "id": "2acd1bdc-d17a-4da3-91f5-2215a259659a",
   "metadata": {},
   "outputs": [
    {
     "name": "stdout",
     "output_type": "stream",
     "text": [
      "read() - Healthcare has become one of India’s largest sectors, both in terms of revenue and employment. Over the years, the government focused on increasing the number of PG seats and Medical Colleges in India to enhance the healthcare delivery system in India. As per Union Health Minister Mansukh Mandaviya, there has been a surge of 105% increase in PG seats from 2014 to 2022. There were 31,185 PG seats in 2014, which increased to 64,059 in 2022. The government is having a target of 80,000 PG medical seats by 2024.\n",
      "readline(50) - Healthcare has become one of India’s largest secto\n",
      "readlines() - ['Healthcare has become one of India’s largest sectors, both in terms of revenue and employment. Over the years, the government focused on increasing the number of PG seats and Medical Colleges in India to enhance the healthcare delivery system in India. As per Union Health Minister Mansukh Mandaviya, there has been a surge of 105% increase in PG seats from 2014 to 2022. There were 31,185 PG seats in 2014, which increased to 64,059 in 2022. The government is having a target of 80,000 PG medical seats by 2024.']\n"
     ]
    }
   ],
   "source": [
    "q=open('test3.txt','w')\n",
    "q.write('Healthcare has become one of India’s largest sectors, both in terms of revenue and employment. Over the years, the government focused on increasing the number of PG seats and Medical Colleges in India to enhance the healthcare delivery system in India. As per Union Health Minister Mansukh Mandaviya, there has been a surge of 105% increase in PG seats from 2014 to 2022. There were 31,185 PG seats in 2014, which increased to 64,059 in 2022. The government is having a target of 80,000 PG medical seats by 2024.')\n",
    "q.close()\n",
    "with open ('test3.txt') as e:\n",
    "    read=e.read()\n",
    "    print('read()','-',read)\n",
    "with open ('test3.txt') as g:\n",
    "    readline=g.readline(50)\n",
    "    print('readline(50)','-',readline) \n",
    "with open ('test3.txt') as v:\n",
    "    readlines=v.readlines()\n",
    "    print('readlines()','-',readlines)"
   ]
  },
  {
   "cell_type": "markdown",
   "id": "c70cc7b9-002b-49c1-9b85-d9a59f847bcf",
   "metadata": {},
   "source": [
    "Q5. Explain why with statement is used with open(). What is the advantage of using with statement and\n",
    "open() together?"
   ]
  },
  {
   "cell_type": "code",
   "execution_count": 5,
   "id": "a9da71d5-0d29-49d7-9618-37735852cf89",
   "metadata": {},
   "outputs": [
    {
     "data": {
      "text/plain": [
       "'Benefits of calling open() using “with statement”\\nFewer chances of bug due to coding error\\n\\nNo need to explicitly close the opened file, “with statement” takes care of that. When with the block ends, it will automatically close the file. So, it reduces the number of lines of code and reduces the chances of bug.\\n\\nExcellent handling in case of exception'"
      ]
     },
     "execution_count": 5,
     "metadata": {},
     "output_type": "execute_result"
    }
   ],
   "source": [
    "#“with statement” creates an execution block and object created in the with statement will be destroyed or gracefully closed when this execution block ends. It means when we used “with statement” with open() function, an execution blocked started and the file object returned by open() function is assigned to file_object. When this execution block of “with statement” end, then the file object’s close function gets called automatically, and the file will be closed gracefully. We don’t need to manually call the close() function anymore if we are using “with statement”\n",
    "\"\"\"Benefits of calling open() using “with statement”\n",
    "Fewer chances of bug due to coding error\n",
    "\n",
    "No need to explicitly close the opened file, “with statement” takes care of that. When with the block ends, it will automatically close the file. So, it reduces the number of lines of code and reduces the chances of bug.\n",
    "\n",
    "Excellent handling in case of exception\"\"\""
   ]
  },
  {
   "cell_type": "markdown",
   "id": "c7b71990-9e90-4636-82b2-bc40f9219db3",
   "metadata": {},
   "source": [
    "Q6. Explain the write() and writelines() functions. Give a suitable example."
   ]
  },
  {
   "cell_type": "code",
   "execution_count": 6,
   "id": "c24fe41d-6f2d-403f-8e51-76390078ad81",
   "metadata": {},
   "outputs": [
    {
     "data": {
      "text/plain": [
       "\"write() function\\nThe write() function writes a string of data to a file. It takes a single argument, which is the string to be written.\\n\\nExample usage:\\n\\nwith open('file.txt', 'w') as f:\\n    f.write('Hello, world!')\\nThis code opens a file named file.txt in write mode ('w'), writes the string 'Hello, world!' to the file using f.write(), and then automatically closes the file when the with block is exited.\""
      ]
     },
     "execution_count": 6,
     "metadata": {},
     "output_type": "execute_result"
    }
   ],
   "source": [
    "\"\"\"write() function\n",
    "The write() function writes a string of data to a file. It takes a single argument, which is the string to be written.\n",
    "\n",
    "Example usage:\n",
    "\n",
    "with open('file.txt', 'w') as f:\n",
    "    f.write('Hello, world!')\n",
    "This code opens a file named file.txt in write mode ('w'), writes the string 'Hello, world!' to the file using f.write(), and then automatically closes the file when the with block is exited.\"\"\""
   ]
  },
  {
   "cell_type": "code",
   "execution_count": 7,
   "id": "ffa54ac6-afd0-4f6a-a587-c0e0c9026843",
   "metadata": {},
   "outputs": [
    {
     "data": {
      "text/plain": [
       "\"writelines() function\\nThe writelines() function writes a sequence of strings to a file. It takes a single argument, which is an iterable of strings.\\n\\nExample usage:\\n\\nwith open('file.txt', 'w') as f:\\n    lines = ['Hello', 'world', '!', 'How', 'are', 'you', '?']\\n    f.writelines(lines)\\nThis code opens a file named file.txt in write mode ('w'), writes the list of strings lines to the file using f.writelines(), and then automatically closes the file when the with block is exited.\\n\\nNote that the writelines() function does not add any newlines between the strings, so if you want to write each string on a new line, you will need to add the newline character ('\\n') to each string.\""
      ]
     },
     "execution_count": 7,
     "metadata": {},
     "output_type": "execute_result"
    }
   ],
   "source": [
    "\"\"\"writelines() function\n",
    "The writelines() function writes a sequence of strings to a file. It takes a single argument, which is an iterable of strings.\n",
    "\n",
    "Example usage:\n",
    "\n",
    "with open('file.txt', 'w') as f:\n",
    "    lines = ['Hello', 'world', '!', 'How', 'are', 'you', '?']\n",
    "    f.writelines(lines)\n",
    "This code opens a file named file.txt in write mode ('w'), writes the list of strings lines to the file using f.writelines(), and then automatically closes the file when the with block is exited.\n",
    "\n",
    "Note that the writelines() function does not add any newlines between the strings, so if you want to write each string on a new line, you will need to add the newline character ('\\n') to each string.\"\"\""
   ]
  },
  {
   "cell_type": "code",
   "execution_count": null,
   "id": "9402d22c-9747-42cc-a71d-aa879063d071",
   "metadata": {},
   "outputs": [],
   "source": []
  }
 ],
 "metadata": {
  "kernelspec": {
   "display_name": "Python 3 (ipykernel)",
   "language": "python",
   "name": "python3"
  },
  "language_info": {
   "codemirror_mode": {
    "name": "ipython",
    "version": 3
   },
   "file_extension": ".py",
   "mimetype": "text/x-python",
   "name": "python",
   "nbconvert_exporter": "python",
   "pygments_lexer": "ipython3",
   "version": "3.10.8"
  }
 },
 "nbformat": 4,
 "nbformat_minor": 5
}
