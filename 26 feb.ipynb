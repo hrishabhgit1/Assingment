{
 "cells": [
  {
   "cell_type": "markdown",
   "id": "6645317f-c2cf-4b4e-affc-c9f95be063a0",
   "metadata": {},
   "source": [
    "Consider the below code to answer further questions:\n",
    "import numpy as np\n",
    "list_ = [ ‘1’ , ’2’ , ‘3’ , ‘4’ , ‘5’ ]\n",
    "array_list = np.array(object = list_)\n"
   ]
  },
  {
   "cell_type": "markdown",
   "id": "116a1306-b205-4067-863c-219ac7b6efad",
   "metadata": {},
   "source": [
    "Q1. Is there any difference in the data type of variables list_ and array_list? If there is then write a code\n",
    "to print the data types of both the variables."
   ]
  },
  {
   "cell_type": "code",
   "execution_count": 1,
   "id": "ef5bb4f9-3d0a-4d9e-83b4-eaef86b3b340",
   "metadata": {},
   "outputs": [
    {
     "data": {
      "text/plain": [
       "'List: A list in Python is a collection of items which can contain elements of multiple data types, which may be either numeric, character logical values, etc. It is an ordered collection supporting negative indexing. A list can be created using [] containing data values. Contents of lists can be easily merged and copied using python’s inbuilt functions.\\nArray: An array is a vector containing homogeneous elements i.e. belonging to the same data type. Elements are allocated with contiguous memory locations. Typically the size of an array is fixed. Insertion and Deletion costs high as compare to List however indexing is fast in the Arrays due to contiguous memory allocation.\\n\\nOperations Difference in Lists and Arrays : –\\nArrays :- Accessing element is Fast in an array because they are in contiguous manner but insertion and deletion is quite expensive because all the elements are shifted from the position of inserting and deleting element linearly.\\n\\nSuppose the array is of 1000 length and we are inserting/deleting element at 100 position then all the element after hundred position will get shifted due to which the operation become expensive.\\n\\nLists : – Accessing element in a list takes linear time because all the element in the lists are linked with each other for accessing ith element we have to traverse all the previous elements in a list however insertion and deletion in a list takes constant(which is not expensive at all) time as all the element are linked with each other for adding or removing new element we just remove the linked between the element and link new element like plumbing the pipe there is no need to shift element as in arrays.\\n\\nNumpy arrays is a typed array, the array in memory stores a homogenous, densely packed numbers. Python list is a heterogeneous list, the list in memory stores references to objects rather than the number themselves. This means that Python list requires dereferencing a pointer every time the code needs to access the number.'"
      ]
     },
     "execution_count": 1,
     "metadata": {},
     "output_type": "execute_result"
    }
   ],
   "source": [
    "\"\"\"List: A list in Python is a collection of items which can contain elements of multiple data types, which may be either numeric, character logical values, etc. It is an ordered collection supporting negative indexing. A list can be created using [] containing data values. Contents of lists can be easily merged and copied using python’s inbuilt functions.\n",
    "Array: An array is a vector containing homogeneous elements i.e. belonging to the same data type. Elements are allocated with contiguous memory locations. Typically the size of an array is fixed. Insertion and Deletion costs high as compare to List however indexing is fast in the Arrays due to contiguous memory allocation.\n",
    "\n",
    "Operations Difference in Lists and Arrays : –\n",
    "Arrays :- Accessing element is Fast in an array because they are in contiguous manner but insertion and deletion is quite expensive because all the elements are shifted from the position of inserting and deleting element linearly.\n",
    "\n",
    "Suppose the array is of 1000 length and we are inserting/deleting element at 100 position then all the element after hundred position will get shifted due to which the operation become expensive.\n",
    "\n",
    "Lists : – Accessing element in a list takes linear time because all the element in the lists are linked with each other for accessing ith element we have to traverse all the previous elements in a list however insertion and deletion in a list takes constant(which is not expensive at all) time as all the element are linked with each other for adding or removing new element we just remove the linked between the element and link new element like plumbing the pipe there is no need to shift element as in arrays.\n",
    "\n",
    "Numpy arrays is a typed array, the array in memory stores a homogenous, densely packed numbers. Python list is a heterogeneous list, the list in memory stores references to objects rather than the number themselves. This means that Python list requires dereferencing a pointer every time the code needs to access the number.\"\"\""
   ]
  },
  {
   "cell_type": "markdown",
   "id": "92ba14a3-6af6-4997-806b-2713118f064e",
   "metadata": {},
   "source": [
    "Q2. Write a code to print the data type of each and every element of both the variables list_ and\n",
    "arra_list."
   ]
  },
  {
   "cell_type": "code",
   "execution_count": 6,
   "id": "958340dd-45c4-438f-811c-fe1410dfaf94",
   "metadata": {},
   "outputs": [
    {
     "name": "stdout",
     "output_type": "stream",
     "text": [
      "type ( 1 ) = <class 'str'>\n",
      "type ( 2 ) = <class 'str'>\n",
      "type ( 3 ) = <class 'str'>\n",
      "type ( 4 ) = <class 'str'>\n",
      "type ( 5 ) = <class 'str'>\n"
     ]
    }
   ],
   "source": [
    "import numpy as np\n",
    "list_ = [ '1','2','3','4','5' ]\n",
    "array_list = np.array(object = list_)\n",
    "\n",
    "# data type of each and every element of list_\n",
    "for i in list_:\n",
    "    t=type(i)\n",
    "    print(\"type\",\"(\",i,\")\",\"=\",t)"
   ]
  },
  {
   "cell_type": "code",
   "execution_count": 7,
   "id": "99be306d-d090-487b-9c7a-d9a0a8a3e5d9",
   "metadata": {},
   "outputs": [
    {
     "name": "stdout",
     "output_type": "stream",
     "text": [
      "[array('1', dtype='<U1')]\n",
      "[array('2', dtype='<U1')]\n",
      "[array('3', dtype='<U1')]\n",
      "[array('4', dtype='<U1')]\n",
      "[array('5', dtype='<U1')]\n"
     ]
    }
   ],
   "source": [
    "#data type of each and every element of array_list\n",
    "for i in np.nditer(array_list):\n",
    "    l=[i]\n",
    "    print (l)"
   ]
  },
  {
   "cell_type": "code",
   "execution_count": 9,
   "id": "b02d1ed3-11ef-4c42-a797-fc5ca3d79758",
   "metadata": {},
   "outputs": [
    {
     "name": "stdout",
     "output_type": "stream",
     "text": [
      "type ( 1 ) = <U1\n",
      "type ( 2 ) = <U1\n",
      "type ( 3 ) = <U1\n",
      "type ( 4 ) = <U1\n",
      "type ( 5 ) = <U1\n"
     ]
    }
   ],
   "source": [
    "for i in array_list:\n",
    "    l=i.dtype\n",
    "    print (\"type\",'(',i,\")\",'=',l)"
   ]
  },
  {
   "cell_type": "markdown",
   "id": "242b0c2d-91d5-4272-b43f-ff403a87aa14",
   "metadata": {},
   "source": [
    "Q3. Considering the following changes in the variable, array_list:\n",
    "array_list = np.array(object = list_, dtype = int)\n",
    "Will there be any difference in the data type of the elements present in both the variables, list_ and\n",
    "arra_list? If so then print the data types of each and every element present in both the variables, list_\n",
    "and arra_list."
   ]
  },
  {
   "cell_type": "code",
   "execution_count": 10,
   "id": "8419b3a4-47c9-456a-8bba-fd68925a18bb",
   "metadata": {},
   "outputs": [
    {
     "name": "stdout",
     "output_type": "stream",
     "text": [
      "type ( 1 ) = <class 'str'>\n",
      "type ( 2 ) = <class 'str'>\n",
      "type ( 3 ) = <class 'str'>\n",
      "type ( 4 ) = <class 'str'>\n",
      "type ( 5 ) = <class 'str'>\n"
     ]
    }
   ],
   "source": [
    "import numpy as np\n",
    "list_ = [ '1','2','3','4','5' ]\n",
    "array_list = np.array(object = list_, dtype = int)\n",
    "\n",
    "# data type of each and every element of list_\n",
    "for i in list_:\n",
    "    t=type(i)\n",
    "    print(\"type\",\"(\",i,\")\",\"=\",t)"
   ]
  },
  {
   "cell_type": "code",
   "execution_count": 11,
   "id": "ec123f18-fcd1-4d33-84e1-73e881aa372d",
   "metadata": {},
   "outputs": [
    {
     "name": "stdout",
     "output_type": "stream",
     "text": [
      "int64\n",
      "int64\n",
      "int64\n",
      "int64\n",
      "int64\n"
     ]
    }
   ],
   "source": [
    "for i in array_list:\n",
    "    l=i.dtype\n",
    "    print (l)"
   ]
  },
  {
   "cell_type": "code",
   "execution_count": 12,
   "id": "b248c484-18f2-4c03-a2d3-34dc4a653312",
   "metadata": {},
   "outputs": [],
   "source": [
    "#yes there is a change in datatypes of elements in array_list ,all the data which was earlier of type \"<U1\" changed to int64,while there is no change in data type of list_ elements "
   ]
  },
  {
   "cell_type": "markdown",
   "id": "a9eb6e61-19d1-497c-b1ce-e0c93c1518f9",
   "metadata": {},
   "source": [
    "Q4.Consider the below code to answer further questions:\n",
    "import numpy as np\n",
    "num_list = [ [ 1 , 2 , 3 ] , [ 4 , 5 , 6 ] ]\n",
    "num_array = np.array(object = num_list)\n",
    "Q4. Write a code to find the following characteristics of variable, num_array:\n",
    "(i) shape\n",
    "(ii) size"
   ]
  },
  {
   "cell_type": "code",
   "execution_count": 13,
   "id": "da80b7be-7ed0-4a3a-9f19-4cf76fe6e9a0",
   "metadata": {},
   "outputs": [
    {
     "name": "stdout",
     "output_type": "stream",
     "text": [
      "num_array_size = 6\n",
      "num_array_shape = (2, 3)\n"
     ]
    }
   ],
   "source": [
    "import numpy as np\n",
    "num_list = [ [ 1 , 2 , 3 ] , [ 4 , 5 , 6 ] ]\n",
    "num_array = np.array(object = num_list)\n",
    "\n",
    "#code to get size\n",
    "num_array_size=np.size(num_array)\n",
    "#code to get shape\n",
    "num_array_shape=np.shape(num_array)\n",
    "\n",
    "print(\"num_array_size\",\"=\",num_array_size)\n",
    "print(\"num_array_shape\",'=',num_array_shape)"
   ]
  },
  {
   "cell_type": "markdown",
   "id": "29a0a6c6-3ff1-482e-83f6-b6abe312df88",
   "metadata": {},
   "source": [
    "Q5. Write a code to create numpy array of 3*3 matrix containing zeros only, using a numpy array\n",
    "creation function.\n",
    "[Hint: The size of the array will be 9 and the shape will be (3,3).]"
   ]
  },
  {
   "cell_type": "code",
   "execution_count": 17,
   "id": "acaccf3c-4dd3-4c9d-b191-17c26398a5b4",
   "metadata": {},
   "outputs": [
    {
     "name": "stdout",
     "output_type": "stream",
     "text": [
      "zero_matrix_array =>\n",
      "[[0. 0. 0.]\n",
      " [0. 0. 0.]\n",
      " [0. 0. 0.]]\n",
      "size = 9\n",
      "shape = (3, 3)\n"
     ]
    }
   ],
   "source": [
    "zero_matrix_array=np.zeros((3,3))\n",
    "print('zero_matrix_array','=>')\n",
    "print(zero_matrix_array)\n",
    "print(\"size\",\"=\",np.size(zero_matrix_array))\n",
    "print('shape',\"=\",np.shape(zero_matrix_array))"
   ]
  },
  {
   "cell_type": "markdown",
   "id": "d65e20af-199b-4382-937e-6c2c24c5fa14",
   "metadata": {},
   "source": [
    "Q6. Create an identity matrix of shape (5,5) using numpy functions?\n",
    "[Hint: An identity matrix is a matrix containing 1 diagonally and other elements will be 0.]"
   ]
  },
  {
   "cell_type": "code",
   "execution_count": 15,
   "id": "8c3f9faa-fc48-49a6-b004-eaff911b4cd9",
   "metadata": {},
   "outputs": [
    {
     "data": {
      "text/plain": [
       "matrix([[1., 0., 0., 0., 0.],\n",
       "        [0., 1., 0., 0., 0.],\n",
       "        [0., 0., 1., 0., 0.],\n",
       "        [0., 0., 0., 1., 0.],\n",
       "        [0., 0., 0., 0., 1.]])"
      ]
     },
     "execution_count": 15,
     "metadata": {},
     "output_type": "execute_result"
    }
   ],
   "source": [
    "import numpy.matlib as nm\n",
    "iden_mat=nm.eye(5)\n",
    "iden_mat"
   ]
  },
  {
   "cell_type": "code",
   "execution_count": null,
   "id": "893e3fa0-1a1e-4f94-bb46-80156482d301",
   "metadata": {},
   "outputs": [],
   "source": []
  }
 ],
 "metadata": {
  "kernelspec": {
   "display_name": "Python 3 (ipykernel)",
   "language": "python",
   "name": "python3"
  },
  "language_info": {
   "codemirror_mode": {
    "name": "ipython",
    "version": 3
   },
   "file_extension": ".py",
   "mimetype": "text/x-python",
   "name": "python",
   "nbconvert_exporter": "python",
   "pygments_lexer": "ipython3",
   "version": "3.10.8"
  }
 },
 "nbformat": 4,
 "nbformat_minor": 5
}
