{
 "cells": [
  {
   "cell_type": "code",
   "execution_count": 8,
   "id": "62cc5656-8c5a-493b-98ee-7fbf64fd9a2e",
   "metadata": {},
   "outputs": [
    {
     "name": "stdin",
     "output_type": "stream",
     "text": [
      "enter the percentage 40\n"
     ]
    },
    {
     "name": "stdout",
     "output_type": "stream",
     "text": [
      "Grade D\n"
     ]
    }
   ],
   "source": [
    "#1)Write a program to accept percentage from the user and display the grade according to the following criteria:\n",
    "P=int(input('enter the percentage'))\n",
    "if P >90:\n",
    "      print('Grade A')\n",
    "elif P>80 and P<= 90:\n",
    "      print('Grade B')\n",
    "elif P>=60 and P<=80:\n",
    "      print('Grade C')\n",
    "else:\n",
    "      print('Grade D')\n",
    "      "
   ]
  },
  {
   "cell_type": "code",
   "execution_count": 11,
   "id": "00980ce0-b9bc-4364-9dd3-0188aa341622",
   "metadata": {},
   "outputs": [
    {
     "name": "stdin",
     "output_type": "stream",
     "text": [
      "enter the cost price of a bike 1000000\n"
     ]
    },
    {
     "name": "stdout",
     "output_type": "stream",
     "text": [
      "road tax to be paid is 15%\n"
     ]
    }
   ],
   "source": [
    "#2)Write a program to accept the cost price of a bike and display the road tax to be paid according to the following criteria:\n",
    "costprice =int(input('enter the cost price of a bike'))\n",
    "if costprice >100000:\n",
    "    print('road tax to be paid is 15%')\n",
    "elif costprice >50000 and costprice <=100000:\n",
    "    print('road tax to be paid is 10%')\n",
    "else:\n",
    "    print('road tax to be paid is 5%')"
   ]
  },
  {
   "cell_type": "code",
   "execution_count": 14,
   "id": "d69ef42b-f5b5-45c2-ba20-e0d0ee3f75b1",
   "metadata": {},
   "outputs": [
    {
     "name": "stdin",
     "output_type": "stream",
     "text": [
      "enter the city name delhi\n"
     ]
    },
    {
     "name": "stdout",
     "output_type": "stream",
     "text": [
      "red fort\n"
     ]
    }
   ],
   "source": [
    "#3)Accept any city from the user and display monuments of that city.\n",
    "city=input('enter the city name')\n",
    "if city=='delhi':\n",
    "    print('red fort')\n",
    "elif city=='agra':\n",
    "    print('tajmahal')\n",
    "elif city=='jaipur':\n",
    "    print('jal mahal')"
   ]
  },
  {
   "cell_type": "code",
   "execution_count": null,
   "id": "7eeb3911-9e52-4430-8eaa-97fd0a3fbb02",
   "metadata": {},
   "outputs": [],
   "source": [
    "#4)Check how many times a given number can be divided by 3 before it is less than or equal to 10"
   ]
  },
  {
   "cell_type": "code",
   "execution_count": 10,
   "id": "d82b560c-49c1-4288-9f9d-33b450dc306f",
   "metadata": {},
   "outputs": [
    {
     "name": "stdin",
     "output_type": "stream",
     "text": [
      "enter the number 7876876897685866\n"
     ]
    },
    {
     "name": "stdout",
     "output_type": "stream",
     "text": [
      "4.250831666635267 , total count = 32\n"
     ]
    }
   ],
   "source": [
    "count=0\n",
    "n=int(input('enter the number'))\n",
    "while n>=10:\n",
    "    n=n/3\n",
    "    count=count+1\n",
    "print(n,',','total count','=',count)"
   ]
  },
  {
   "cell_type": "code",
   "execution_count": 11,
   "id": "795b291c-b877-4751-ad94-b23468e30561",
   "metadata": {},
   "outputs": [],
   "source": [
    "#5)Why and When to Use while Loop in Python give a detailed description with example"
   ]
  },
  {
   "cell_type": "markdown",
   "id": "066f0398-4b0d-4158-89a2-a86cef98085d",
   "metadata": {},
   "source": [
    "\"\"\"ans-In simple words, The while loop enables the Python program to repeat a set of operations while a particular condition is true. When the condition becomes false, execution comes out of the loop immediately, and the first statement after the while loop is executed.\n",
    "We use a while loop when the number of iteration is not known beforehand. For example, if you want to ask a user to guess your luck number between 1 and 10, we don’t know how many attempts the user may need to guess the correct number. In such cases, use a while loop.\n",
    "So, when number of iteration is not fixed always use the while loop.\n",
    "=>When to Use while Loop in Python\n",
    "Automate and repeat tasks.: As we know, while loops execute blocks of code over and over again until the condition is met it allows us to automate and repeat tasks in an efficient manner.\n",
    "Indefinite Iteration: The while loop will run as often as necessary to complete a particular task. When the user doesn’t know the number of iterations before execution, while loop is used instead of a for loop\n",
    "Reduce complexity: while loop is easy to write. using the loop, we don’t need to write the statements again and again. Instead, we can write statements we wanted to execute again and again inside the body of the loop thus, reducing the complexity of the code\n",
    "Infinite loop: If the code inside the while loop doesn’t modify the variables being tested in the loop condition, the loop will run forever.\"\"\"\n",
    "example-\n",
    "# condition: Run loop till count is less than 3\n",
    "count = 1\n",
    "while count < 3:\n",
    "    print(count)\n",
    "    count = count + 1\n",
    "\n"
   ]
  },
  {
   "cell_type": "code",
   "execution_count": 14,
   "id": "cbf039e3-9cc4-430b-bb5d-e42aa4e504c3",
   "metadata": {},
   "outputs": [],
   "source": [
    "#6)Use nested while loop to print 3 different pattern"
   ]
  },
  {
   "cell_type": "code",
   "execution_count": null,
   "id": "3dec331d-9266-40f6-b623-0646c301919d",
   "metadata": {},
   "outputs": [],
   "source": []
  },
  {
   "cell_type": "code",
   "execution_count": null,
   "id": "ac349bfb-86ff-48eb-98b2-82ed51545ef4",
   "metadata": {},
   "outputs": [],
   "source": []
  },
  {
   "cell_type": "code",
   "execution_count": null,
   "id": "5e8d3872-067f-43eb-b946-f53298538336",
   "metadata": {},
   "outputs": [],
   "source": []
  },
  {
   "cell_type": "code",
   "execution_count": 15,
   "id": "15caf57e-6b26-46a6-ac2f-bda12fc81cda",
   "metadata": {},
   "outputs": [],
   "source": [
    "#7)Reverse a while loop to display numbers from 10 to 1"
   ]
  },
  {
   "cell_type": "code",
   "execution_count": 16,
   "id": "6d57dd62-c706-420c-82fc-366cb8f1a2f3",
   "metadata": {},
   "outputs": [
    {
     "name": "stdout",
     "output_type": "stream",
     "text": [
      "10\n",
      "9\n",
      "8\n",
      "7\n",
      "6\n",
      "5\n",
      "4\n",
      "3\n",
      "2\n",
      "1\n"
     ]
    }
   ],
   "source": [
    "count=10\n",
    "while count >0:\n",
    "    print (count)\n",
    "    count=count-1"
   ]
  },
  {
   "cell_type": "code",
   "execution_count": null,
   "id": "33da9450-f1de-4c37-adb0-2e84fbd3a411",
   "metadata": {},
   "outputs": [],
   "source": []
  },
  {
   "cell_type": "code",
   "execution_count": 17,
   "id": "50b2d6e7-89e8-4b45-98a2-0848f6020a80",
   "metadata": {},
   "outputs": [
    {
     "name": "stdout",
     "output_type": "stream",
     "text": [
      "10\n",
      "9\n",
      "8\n",
      "7\n",
      "6\n",
      "5\n",
      "4\n",
      "3\n",
      "2\n",
      "1\n"
     ]
    }
   ],
   "source": [
    "#7)Reverse a while loop to display numbers from 10 to 1\n",
    "count=10\n",
    "while count >0:\n",
    "    print (count)\n",
    "    count=count-1"
   ]
  },
  {
   "cell_type": "code",
   "execution_count": null,
   "id": "d5a23379-ab8d-4207-afde-ec7ed71e95ea",
   "metadata": {},
   "outputs": [],
   "source": []
  }
 ],
 "metadata": {
  "kernelspec": {
   "display_name": "Python 3 (ipykernel)",
   "language": "python",
   "name": "python3"
  },
  "language_info": {
   "codemirror_mode": {
    "name": "ipython",
    "version": 3
   },
   "file_extension": ".py",
   "mimetype": "text/x-python",
   "name": "python",
   "nbconvert_exporter": "python",
   "pygments_lexer": "ipython3",
   "version": "3.10.8"
  }
 },
 "nbformat": 4,
 "nbformat_minor": 5
}
